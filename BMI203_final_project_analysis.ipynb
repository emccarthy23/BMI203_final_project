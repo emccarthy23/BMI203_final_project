{
 "cells": [
  {
   "cell_type": "code",
   "execution_count": 3,
   "metadata": {},
   "outputs": [],
   "source": [
    "from BMI203_final_project import neuralnet\n",
    "from BMI203_final_project import io\n",
    "import numpy as np\n",
    "import random\n",
    "from scipy.interpolate import make_interp_spline, BSpline\n",
    "import matplotlib.pyplot as plt\n",
    "import time\n",
    "\n",
    "#net = neuralnet.Network([8,3,8])"
   ]
  },
  {
   "cell_type": "code",
   "execution_count": 7,
   "metadata": {},
   "outputs": [],
   "source": [
    "#Read in pos_sequences\n",
    "pos_sequences = io.read_sequences('/Users/elizabeth/Desktop/BMI203_final_project/data/rap1-lieb-positives.txt')\n",
    "#Add reverse complement fo neg sequences\n",
    "pos_sequences = io.reverse_complement(pos_sequences)\n",
    "#Make list of only sequences without meta info\n",
    "seq = [x[0] for x in pos_sequences]"
   ]
  },
  {
   "cell_type": "code",
   "execution_count": 16,
   "metadata": {},
   "outputs": [],
   "source": [
    "pos_sequences = io.read_sequences('/Users/elizabeth/Desktop/BMI203_final_project/data/rap1-lieb-positives.txt')"
   ]
  },
  {
   "cell_type": "code",
   "execution_count": 20,
   "metadata": {},
   "outputs": [],
   "source": [
    "pos_sequences = io.reverse_complement(pos_sequences)"
   ]
  },
  {
   "cell_type": "code",
   "execution_count": 24,
   "metadata": {},
   "outputs": [
    {
     "data": {
      "text/plain": [
       "['CGGAGGTGCACGGATGT',\n",
       " 1,\n",
       " 0.17647058823529413,\n",
       " 0.17647058823529413,\n",
       " 0.47058823529411764,\n",
       " 0.17647058823529413]"
      ]
     },
     "execution_count": 24,
     "metadata": {},
     "output_type": "execute_result"
    }
   ],
   "source": [
    "pos_sequences[137] #len(pos_sequences)//2"
   ]
  },
  {
   "cell_type": "code",
   "execution_count": 19,
   "metadata": {},
   "outputs": [
    {
     "data": {
      "text/plain": [
       "'ACATCCGTGCACCTCCG'"
      ]
     },
     "execution_count": 19,
     "metadata": {},
     "output_type": "execute_result"
    }
   ],
   "source": [
    "pos_sequences[0][0]"
   ]
  },
  {
   "cell_type": "code",
   "execution_count": 8,
   "metadata": {},
   "outputs": [],
   "source": [
    "#Read in negative sequences and split up into 17 bp long sub sequences\n",
    "neg_sequences = io.read_neg_sequences('/Users/elizabeth/Desktop/BMI203_final_project/data/yeast-upstream-1k-negative.fa')"
   ]
  },
  {
   "cell_type": "code",
   "execution_count": 6,
   "metadata": {},
   "outputs": [
    {
     "data": {
      "text/plain": [
       "3109229"
      ]
     },
     "execution_count": 6,
     "metadata": {},
     "output_type": "execute_result"
    }
   ],
   "source": [
    "len(neg_sequences)"
   ]
  },
  {
   "cell_type": "code",
   "execution_count": 9,
   "metadata": {},
   "outputs": [],
   "source": [
    "#Remove all sequences that match orig pos_seq or their complement\n",
    "neg_sequences = io.Diff(neg_sequences, seq)"
   ]
  },
  {
   "cell_type": "code",
   "execution_count": 10,
   "metadata": {},
   "outputs": [
    {
     "data": {
      "text/plain": [
       "2979026"
      ]
     },
     "execution_count": 10,
     "metadata": {},
     "output_type": "execute_result"
    }
   ],
   "source": [
    "len(neg_sequences)"
   ]
  },
  {
   "cell_type": "code",
   "execution_count": 11,
   "metadata": {},
   "outputs": [
    {
     "data": {
      "text/plain": [
       "130203"
      ]
     },
     "execution_count": 11,
     "metadata": {},
     "output_type": "execute_result"
    }
   ],
   "source": [
    "#Number of removed sequences\n",
    "3109229- 2979026"
   ]
  },
  {
   "cell_type": "code",
   "execution_count": 103,
   "metadata": {},
   "outputs": [
    {
     "data": {
      "image/png": "[encoded data removed]",
      "text/plain": [
       "<Figure size 432x288 with 1 Axes>"
      ]
     },
     "metadata": {
      "needs_background": "light"
     },
     "output_type": "display_data"
    }
   ],
   "source": [
    "#Check distribution of bases in each set of sequences\n",
    "#Positive sequences\n",
    "num_a = [x[2] for x in pos_sequences]\n",
    "num_t = [x[3] for x in pos_sequences]\n",
    "num_g = [x[4] for x in pos_sequences]\n",
    "num_c = [x[5] for x in pos_sequences]\n",
    "data = [num_a,num_t,num_g,num_c]\n",
    "# Multiple box plots on one Axes\n",
    "fig, ax = plt.subplots()\n",
    "ax.boxplot(data)\n",
    "bars = ('','A', 'T', 'G', 'C')\n",
    "y_pos = np.arange(len(bars))\n",
    "plt.title(\"Positive Sequences\")\n",
    "plt.xticks(y_pos, bars)\n",
    "\n",
    "plt.show()\n"
   ]
  },
  {
   "cell_type": "code",
   "execution_count": 19,
   "metadata": {},
   "outputs": [
    {
     "data": {
      "image/png": "[encoded data removed]",
      "text/plain": [
       "<Figure size 432x288 with 1 Axes>"
      ]
     },
     "metadata": {
      "needs_background": "light"
     },
     "output_type": "display_data"
    }
   ],
   "source": [
    "#Choose equal number of neg sequences\n",
    "neg_sequence_subset = random.sample(neg_sequences, len(pos_sequences))\n",
    "num_a = [x.count('A')/len(x) for x in neg_sequence_subset]\n",
    "num_t = [x.count('T')/len(x) for x in neg_sequence_subset]\n",
    "num_g = [x.count('G')/len(x) for x in neg_sequence_subset]\n",
    "num_c = [x.count('C')/len(x) for x in neg_sequence_subset]\n",
    "data = [num_a,num_t,num_g,num_c]\n",
    "\n",
    "# Multiple box plots on one Axes\n",
    "fig, ax = plt.subplots()\n",
    "ax.boxplot(data)\n",
    "bars = ('','A', 'T', 'G', 'C')\n",
    "y_pos = np.arange(len(bars))\n",
    "\n",
    "plt.xticks(y_pos, bars)\n",
    "\n",
    "plt.show()\n",
    "#Pretty different distribution so let's try to match the distributions "
   ]
  },
  {
   "cell_type": "code",
   "execution_count": 19,
   "metadata": {},
   "outputs": [
    {
     "data": {
      "text/plain": [
       "[0, 0, 2]"
      ]
     },
     "execution_count": 19,
     "metadata": {},
     "output_type": "execute_result"
    }
   ],
   "source": [
    "x = [0.3,0.5, 1.8]\n",
    "[round(i) for i in x]\n"
   ]
  },
  {
   "cell_type": "code",
   "execution_count": 17,
   "metadata": {},
   "outputs": [
    {
     "data": {
      "text/plain": [
       "15"
      ]
     },
     "execution_count": 17,
     "metadata": {},
     "output_type": "execute_result"
    }
   ],
   "source": [
    "round(147*0.1)"
   ]
  },
  {
   "cell_type": "code",
   "execution_count": 64,
   "metadata": {},
   "outputs": [],
   "source": [
    "\n",
    "#Add meta data to neg sequences\n",
    "neg_sequences_info = [[x, 0,x.count('A')/len(x), x.count('T')/len(x), x.count('G')/len(x), x.count('C')/len(x)] for x in neg_sequences[1:]]\n",
    "#Add in reverse complement sequences\n",
    "neg_sequences_info = io.reverse_complement(neg_sequences_info)\n",
    "\n",
    "\n"
   ]
  },
  {
   "cell_type": "code",
   "execution_count": 102,
   "metadata": {},
   "outputs": [
    {
     "data": {
      "image/png": "[encoded data removed]",
      "text/plain": [
       "<Figure size 432x288 with 1 Axes>"
      ]
     },
     "metadata": {
      "needs_background": "light"
     },
     "output_type": "display_data"
    }
   ],
   "source": [
    "#Negative sequences\n",
    "num_a = [x[2] for x in neg_sequences_info ]\n",
    "num_t = [x[3] for x in neg_sequences_info ]\n",
    "num_g = [x[4] for x in neg_sequences_info ]\n",
    "num_c = [x[5] for x in neg_sequences_info ]\n",
    "data = [num_a,num_t,num_g,num_c]\n",
    "# Multiple box plots on one Axes\n",
    "fig, ax = plt.subplots()\n",
    "ax.boxplot(data)\n",
    "bars = ('','A', 'T', 'G', 'C')\n",
    "y_pos = np.arange(len(bars))\n",
    "plt.title(\"Negative Sequences\")\n",
    "plt.xticks(y_pos, bars)\n",
    "\n",
    "plt.show()"
   ]
  },
  {
   "cell_type": "code",
   "execution_count": 119,
   "metadata": {},
   "outputs": [],
   "source": [
    "test = [np.sum(np.square(np.array(x[2:6]) - np.array(pos_sequences[0][2:6]))) for x in neg_sequences_info]"
   ]
  },
  {
   "cell_type": "code",
   "execution_count": null,
   "metadata": {},
   "outputs": [],
   "source": [
    "neg_sequences_holder = neg_sequences_info"
   ]
  },
  {
   "cell_type": "code",
   "execution_count": 120,
   "metadata": {},
   "outputs": [
    {
     "data": {
      "image/png": "[encoded data removed]",
      "text/plain": [
       "<Figure size 432x288 with 1 Axes>"
      ]
     },
     "metadata": {
      "needs_background": "light"
     },
     "output_type": "display_data"
    }
   ],
   "source": [
    "plt.hist(test, bins='auto', color='#0504aa',\n",
    "                            alpha=0.7, rwidth=0.85)\n",
    "plt.show()"
   ]
  },
  {
   "cell_type": "code",
   "execution_count": 126,
   "metadata": {},
   "outputs": [],
   "source": [
    "neg_sequences_holder = neg_sequences_info"
   ]
  },
  {
   "cell_type": "code",
   "execution_count": 129,
   "metadata": {},
   "outputs": [
    {
     "name": "stdout",
     "output_type": "stream",
     "text": [
      "0.5551857352256775\n"
     ]
    }
   ],
   "source": [
    "start = time.time()\n",
    "neg_sequences_subset = []\n",
    "for pos_seq in pos_sequences:\n",
    "    d = 1\n",
    "    for neg_seq in neg_sequences_holder:\n",
    "        d = np.sum(np.square(np.array(neg_seq[2:6]) - np.array(pos_seq[2:6])))\n",
    "        if d == 0:\n",
    "            neg_sequences_subset.append(neg_seq)\n",
    "            neg_sequences_holder.remove(neg_seq)\n",
    "            break\n",
    "        else:\n",
    "            continue\n",
    "end = time.time()\n",
    "print((end-start)/60)"
   ]
  },
  {
   "cell_type": "code",
   "execution_count": 134,
   "metadata": {},
   "outputs": [
    {
     "data": {
      "text/plain": [
       "274"
      ]
     },
     "execution_count": 134,
     "metadata": {},
     "output_type": "execute_result"
    }
   ],
   "source": [
    "#Make sure there is no overlap with the positive sequences\n",
    "pos_test = [x[0] for x in pos_sequences]\n",
    "neg_test = [x[0] for x in neg_sequences_subset]\n",
    "test = io.Diff(neg_test, pos_test)\n",
    "len(test)"
   ]
  },
  {
   "cell_type": "code",
   "execution_count": 131,
   "metadata": {},
   "outputs": [
    {
     "data": {
      "text/plain": [
       "274"
      ]
     },
     "execution_count": 131,
     "metadata": {},
     "output_type": "execute_result"
    }
   ],
   "source": [
    "#Make sure all the negative sequences are unique\n",
    "print(len(np.unique([x[0] for x in neg_sequences_subset])))\n"
   ]
  },
  {
   "cell_type": "code",
   "execution_count": 4,
   "metadata": {},
   "outputs": [],
   "source": [
    "pos_pairs = io.read_sequences('data/rap1-lieb-positives.txt')\n",
    "pos_pairs = io.reverse_complement(pos_pairs)\n",
    "pos_input = io.convert_to_numeric(pos_pairs)\n",
    "neg_pairs = np.load(\"neg_sequences.npy\")\n",
    "neg_input = io.convert_to_numeric(neg_pairs)\n",
    "training_input = pos_input + neg_input"
   ]
  },
  {
   "cell_type": "code",
   "execution_count": 5,
   "metadata": {},
   "outputs": [
    {
     "name": "stdout",
     "output_type": "stream",
     "text": [
      "Epochs complete in: 0.07100626230239868  min\n"
     ]
    },
    {
     "ename": "ValueError",
     "evalue": "too many values to unpack (expected 2)",
     "output_type": "error",
     "traceback": [
      "\u001b[0;31m-------------------------------------------------------------------\u001b[0m",
      "\u001b[0;31mValueError\u001b[0m                        Traceback (most recent call last)",
      "\u001b[0;32m<ipython-input-5-bb76d656f1ca>\u001b[0m in \u001b[0;36m<module>\u001b[0;34m()\u001b[0m\n\u001b[1;32m      1\u001b[0m \u001b[0mnet\u001b[0m \u001b[0;34m=\u001b[0m \u001b[0mneuralnet\u001b[0m\u001b[0;34m.\u001b[0m\u001b[0mNetwork\u001b[0m\u001b[0;34m(\u001b[0m\u001b[0;34m[\u001b[0m\u001b[0;36m68\u001b[0m\u001b[0;34m,\u001b[0m\u001b[0;36m34\u001b[0m\u001b[0;34m,\u001b[0m\u001b[0;36m1\u001b[0m\u001b[0;34m]\u001b[0m\u001b[0;34m)\u001b[0m\u001b[0;34m\u001b[0m\u001b[0m\n\u001b[1;32m      2\u001b[0m \u001b[0mnet\u001b[0m\u001b[0;34m.\u001b[0m\u001b[0mSGD\u001b[0m\u001b[0;34m(\u001b[0m\u001b[0mtraining_input\u001b[0m\u001b[0;34m,\u001b[0m\u001b[0;36m300\u001b[0m\u001b[0;34m,\u001b[0m\u001b[0;36m10\u001b[0m\u001b[0;34m,\u001b[0m\u001b[0;36m1\u001b[0m\u001b[0;34m)\u001b[0m\u001b[0;34m\u001b[0m\u001b[0m\n\u001b[0;32m----> 3\u001b[0;31m \u001b[0moutput\u001b[0m \u001b[0;34m=\u001b[0m \u001b[0mnet\u001b[0m\u001b[0;34m.\u001b[0m\u001b[0moutput\u001b[0m\u001b[0;34m(\u001b[0m\u001b[0mneg_pairs\u001b[0m\u001b[0;34m)\u001b[0m\u001b[0;34m\u001b[0m\u001b[0m\n\u001b[0m",
      "\u001b[0;32m~/Desktop/BMI203_final_project/BMI203_final_project/neuralnet.py\u001b[0m in \u001b[0;36moutput\u001b[0;34m(self, test_data)\u001b[0m\n\u001b[1;32m    209\u001b[0m         \"\"\"\n\u001b[1;32m    210\u001b[0m         \u001b[0mvec_2_base\u001b[0m \u001b[0;34m=\u001b[0m \u001b[0;34m{\u001b[0m\u001b[0mtuple\u001b[0m\u001b[0;34m(\u001b[0m\u001b[0;34m[\u001b[0m\u001b[0;36m1\u001b[0m\u001b[0;34m,\u001b[0m\u001b[0;36m0\u001b[0m\u001b[0;34m,\u001b[0m\u001b[0;36m0\u001b[0m\u001b[0;34m,\u001b[0m\u001b[0;36m0\u001b[0m\u001b[0;34m]\u001b[0m\u001b[0;34m)\u001b[0m\u001b[0;34m:\u001b[0m\u001b[0;34m\"A\"\u001b[0m\u001b[0;34m,\u001b[0m\u001b[0mtuple\u001b[0m\u001b[0;34m(\u001b[0m\u001b[0;34m[\u001b[0m\u001b[0;36m0\u001b[0m\u001b[0;34m,\u001b[0m\u001b[0;36m1\u001b[0m\u001b[0;34m,\u001b[0m\u001b[0;36m0\u001b[0m\u001b[0;34m,\u001b[0m\u001b[0;36m0\u001b[0m\u001b[0;34m]\u001b[0m\u001b[0;34m)\u001b[0m\u001b[0;34m:\u001b[0m\u001b[0;34m\"T\"\u001b[0m\u001b[0;34m,\u001b[0m \u001b[0mtuple\u001b[0m\u001b[0;34m(\u001b[0m\u001b[0;34m[\u001b[0m\u001b[0;36m0\u001b[0m\u001b[0;34m,\u001b[0m\u001b[0;36m0\u001b[0m\u001b[0;34m,\u001b[0m\u001b[0;36m1\u001b[0m\u001b[0;34m,\u001b[0m\u001b[0;36m0\u001b[0m\u001b[0;34m]\u001b[0m\u001b[0;34m)\u001b[0m\u001b[0;34m:\u001b[0m\u001b[0;34m\"C\"\u001b[0m\u001b[0;34m,\u001b[0m \u001b[0mtuple\u001b[0m\u001b[0;34m(\u001b[0m\u001b[0;34m[\u001b[0m\u001b[0;36m0\u001b[0m\u001b[0;34m,\u001b[0m\u001b[0;36m0\u001b[0m\u001b[0;34m,\u001b[0m\u001b[0;36m0\u001b[0m\u001b[0;34m,\u001b[0m\u001b[0;36m1\u001b[0m\u001b[0;34m]\u001b[0m\u001b[0;34m)\u001b[0m\u001b[0;34m:\u001b[0m\u001b[0;34m\"G\"\u001b[0m\u001b[0;34m}\u001b[0m\u001b[0;34m\u001b[0m\u001b[0m\n\u001b[0;32m--> 211\u001b[0;31m         \u001b[0mtest_results\u001b[0m \u001b[0;34m=\u001b[0m \u001b[0;34m[\u001b[0m\u001b[0;34m(\u001b[0m\u001b[0mself\u001b[0m\u001b[0;34m.\u001b[0m\u001b[0mfeedforward\u001b[0m\u001b[0;34m(\u001b[0m\u001b[0mx\u001b[0m\u001b[0;34m)\u001b[0m\u001b[0;34m,\u001b[0m \u001b[0my\u001b[0m\u001b[0;34m)\u001b[0m \u001b[0;32mfor\u001b[0m \u001b[0;34m(\u001b[0m\u001b[0mx\u001b[0m\u001b[0;34m,\u001b[0m \u001b[0my\u001b[0m\u001b[0;34m)\u001b[0m \u001b[0;32min\u001b[0m \u001b[0mtest_data\u001b[0m\u001b[0;34m]\u001b[0m\u001b[0;34m\u001b[0m\u001b[0m\n\u001b[0m\u001b[1;32m    212\u001b[0m         \u001b[0msequences\u001b[0m \u001b[0;34m=\u001b[0m \u001b[0;34m[\u001b[0m\u001b[0;34m]\u001b[0m\u001b[0;34m\u001b[0m\u001b[0m\n\u001b[1;32m    213\u001b[0m         \u001b[0moutput\u001b[0m \u001b[0;34m=\u001b[0m \u001b[0;34m[\u001b[0m\u001b[0;34m]\u001b[0m\u001b[0;34m\u001b[0m\u001b[0m\n",
      "\u001b[0;32m~/Desktop/BMI203_final_project/BMI203_final_project/neuralnet.py\u001b[0m in \u001b[0;36m<listcomp>\u001b[0;34m(.0)\u001b[0m\n\u001b[1;32m    209\u001b[0m         \"\"\"\n\u001b[1;32m    210\u001b[0m         \u001b[0mvec_2_base\u001b[0m \u001b[0;34m=\u001b[0m \u001b[0;34m{\u001b[0m\u001b[0mtuple\u001b[0m\u001b[0;34m(\u001b[0m\u001b[0;34m[\u001b[0m\u001b[0;36m1\u001b[0m\u001b[0;34m,\u001b[0m\u001b[0;36m0\u001b[0m\u001b[0;34m,\u001b[0m\u001b[0;36m0\u001b[0m\u001b[0;34m,\u001b[0m\u001b[0;36m0\u001b[0m\u001b[0;34m]\u001b[0m\u001b[0;34m)\u001b[0m\u001b[0;34m:\u001b[0m\u001b[0;34m\"A\"\u001b[0m\u001b[0;34m,\u001b[0m\u001b[0mtuple\u001b[0m\u001b[0;34m(\u001b[0m\u001b[0;34m[\u001b[0m\u001b[0;36m0\u001b[0m\u001b[0;34m,\u001b[0m\u001b[0;36m1\u001b[0m\u001b[0;34m,\u001b[0m\u001b[0;36m0\u001b[0m\u001b[0;34m,\u001b[0m\u001b[0;36m0\u001b[0m\u001b[0;34m]\u001b[0m\u001b[0;34m)\u001b[0m\u001b[0;34m:\u001b[0m\u001b[0;34m\"T\"\u001b[0m\u001b[0;34m,\u001b[0m \u001b[0mtuple\u001b[0m\u001b[0;34m(\u001b[0m\u001b[0;34m[\u001b[0m\u001b[0;36m0\u001b[0m\u001b[0;34m,\u001b[0m\u001b[0;36m0\u001b[0m\u001b[0;34m,\u001b[0m\u001b[0;36m1\u001b[0m\u001b[0;34m,\u001b[0m\u001b[0;36m0\u001b[0m\u001b[0;34m]\u001b[0m\u001b[0;34m)\u001b[0m\u001b[0;34m:\u001b[0m\u001b[0;34m\"C\"\u001b[0m\u001b[0;34m,\u001b[0m \u001b[0mtuple\u001b[0m\u001b[0;34m(\u001b[0m\u001b[0;34m[\u001b[0m\u001b[0;36m0\u001b[0m\u001b[0;34m,\u001b[0m\u001b[0;36m0\u001b[0m\u001b[0;34m,\u001b[0m\u001b[0;36m0\u001b[0m\u001b[0;34m,\u001b[0m\u001b[0;36m1\u001b[0m\u001b[0;34m]\u001b[0m\u001b[0;34m)\u001b[0m\u001b[0;34m:\u001b[0m\u001b[0;34m\"G\"\u001b[0m\u001b[0;34m}\u001b[0m\u001b[0;34m\u001b[0m\u001b[0m\n\u001b[0;32m--> 211\u001b[0;31m         \u001b[0mtest_results\u001b[0m \u001b[0;34m=\u001b[0m \u001b[0;34m[\u001b[0m\u001b[0;34m(\u001b[0m\u001b[0mself\u001b[0m\u001b[0;34m.\u001b[0m\u001b[0mfeedforward\u001b[0m\u001b[0;34m(\u001b[0m\u001b[0mx\u001b[0m\u001b[0;34m)\u001b[0m\u001b[0;34m,\u001b[0m \u001b[0my\u001b[0m\u001b[0;34m)\u001b[0m \u001b[0;32mfor\u001b[0m \u001b[0;34m(\u001b[0m\u001b[0mx\u001b[0m\u001b[0;34m,\u001b[0m \u001b[0my\u001b[0m\u001b[0;34m)\u001b[0m \u001b[0;32min\u001b[0m \u001b[0mtest_data\u001b[0m\u001b[0;34m]\u001b[0m\u001b[0;34m\u001b[0m\u001b[0m\n\u001b[0m\u001b[1;32m    212\u001b[0m         \u001b[0msequences\u001b[0m \u001b[0;34m=\u001b[0m \u001b[0;34m[\u001b[0m\u001b[0;34m]\u001b[0m\u001b[0;34m\u001b[0m\u001b[0m\n\u001b[1;32m    213\u001b[0m         \u001b[0moutput\u001b[0m \u001b[0;34m=\u001b[0m \u001b[0;34m[\u001b[0m\u001b[0;34m]\u001b[0m\u001b[0;34m\u001b[0m\u001b[0m\n",
      "\u001b[0;31mValueError\u001b[0m: too many values to unpack (expected 2)"
     ]
    }
   ],
   "source": [
    "net = neuralnet.Network([68,34,1])\n",
    "net.SGD(training_input,300,10,1)\n",
    "output = net.output(neg_pairs)"
   ]
  },
  {
   "cell_type": "code",
   "execution_count": 9,
   "metadata": {},
   "outputs": [],
   "source": [
    "test_data = [[np.array([[1,0,0,0,0,0,0,0]]).T,np.array([[1,0,0,0,0,0,0,0]]).T],\n",
    "                 [np.array([[0,1,0,0,0,0,0,0]]).T,np.array([[0,1,0,0,0,0,0,0]]).T],\n",
    "                [np.array([[0,0,1,0,0,0,0,0]]).T,np.array([[0,0,1,0,0,0,0,0]]).T],\n",
    "                [np.array([[0,0,0,1,0,0,0,0]]).T,np.array([[0,0,0,1,0,0,0,0]]).T],\n",
    "                [np.array([[0,0,0,0,1,0,0,0]]).T,np.array([[0,0,0,0,1,0,0,0]]).T],\n",
    "                [np.array([[0,0,0,0,0,1,0,0]]).T,np.array([[0,0,0,0,0,1,0,0]]).T],\n",
    "                [np.array([[0,0,0,0,0,0,1,0]]).T,np.array([[0,0,0,0,0,0,1,0]]).T],\n",
    "                [np.array([[0,0,0,0,0,0,0,1]]).T,np.array([[0,0,0,0,0,0,0,1]]).T]]"
   ]
  },
  {
   "cell_type": "code",
   "execution_count": 10,
   "metadata": {},
   "outputs": [
    {
     "name": "stdout",
     "output_type": "stream",
     "text": [
      "Epochs complete in: 0.005001779397328695  min\n"
     ]
    }
   ],
   "source": [
    "unsorted_test = test_data\n",
    "net = neuralnet.Network([8,3,8])\n",
    "net.SGD(test_data,300,1,1)\n",
    "output = net.evaluate_8_3_8(unsorted_test)\n",
    "   "
   ]
  },
  {
   "cell_type": "code",
   "execution_count": 12,
   "metadata": {},
   "outputs": [
    {
     "data": {
      "text/plain": [
       "[[array([[0],\n",
       "         [0],\n",
       "         [0],\n",
       "         [0],\n",
       "         [1],\n",
       "         [0],\n",
       "         [0],\n",
       "         [0]]), array([[0],\n",
       "         [0],\n",
       "         [0],\n",
       "         [0],\n",
       "         [1],\n",
       "         [0],\n",
       "         [0],\n",
       "         [0]])], [array([[0],\n",
       "         [0],\n",
       "         [0],\n",
       "         [0],\n",
       "         [0],\n",
       "         [0],\n",
       "         [0],\n",
       "         [1]]), array([[0],\n",
       "         [0],\n",
       "         [0],\n",
       "         [0],\n",
       "         [0],\n",
       "         [0],\n",
       "         [0],\n",
       "         [1]])], [array([[0],\n",
       "         [0],\n",
       "         [0],\n",
       "         [1],\n",
       "         [0],\n",
       "         [0],\n",
       "         [0],\n",
       "         [0]]), array([[0],\n",
       "         [0],\n",
       "         [0],\n",
       "         [1],\n",
       "         [0],\n",
       "         [0],\n",
       "         [0],\n",
       "         [0]])], [array([[0],\n",
       "         [0],\n",
       "         [0],\n",
       "         [0],\n",
       "         [0],\n",
       "         [1],\n",
       "         [0],\n",
       "         [0]]), array([[0],\n",
       "         [0],\n",
       "         [0],\n",
       "         [0],\n",
       "         [0],\n",
       "         [1],\n",
       "         [0],\n",
       "         [0]])], [array([[1],\n",
       "         [0],\n",
       "         [0],\n",
       "         [0],\n",
       "         [0],\n",
       "         [0],\n",
       "         [0],\n",
       "         [0]]), array([[1],\n",
       "         [0],\n",
       "         [0],\n",
       "         [0],\n",
       "         [0],\n",
       "         [0],\n",
       "         [0],\n",
       "         [0]])], [array([[0],\n",
       "         [1],\n",
       "         [0],\n",
       "         [0],\n",
       "         [0],\n",
       "         [0],\n",
       "         [0],\n",
       "         [0]]), array([[0],\n",
       "         [1],\n",
       "         [0],\n",
       "         [0],\n",
       "         [0],\n",
       "         [0],\n",
       "         [0],\n",
       "         [0]])], [array([[0],\n",
       "         [0],\n",
       "         [1],\n",
       "         [0],\n",
       "         [0],\n",
       "         [0],\n",
       "         [0],\n",
       "         [0]]), array([[0],\n",
       "         [0],\n",
       "         [1],\n",
       "         [0],\n",
       "         [0],\n",
       "         [0],\n",
       "         [0],\n",
       "         [0]])], [array([[0],\n",
       "         [0],\n",
       "         [0],\n",
       "         [0],\n",
       "         [0],\n",
       "         [0],\n",
       "         [1],\n",
       "         [0]]), array([[0],\n",
       "         [0],\n",
       "         [0],\n",
       "         [0],\n",
       "         [0],\n",
       "         [0],\n",
       "         [1],\n",
       "         [0]])]]"
      ]
     },
     "execution_count": 12,
     "metadata": {},
     "output_type": "execute_result"
    }
   ],
   "source": [
    "unsorted_test"
   ]
  },
  {
   "cell_type": "code",
   "execution_count": 8,
   "metadata": {},
   "outputs": [
    {
     "data": {
      "text/plain": [
       "array(['CCGCCCATGTCTACCAG', '0', '0.17647058823529413',\n",
       "       '0.17647058823529413', '0.17647058823529413',\n",
       "       '0.47058823529411764'], dtype='<U20')"
      ]
     },
     "execution_count": 8,
     "metadata": {},
     "output_type": "execute_result"
    }
   ],
   "source": [
    "neg_pairs[0]"
   ]
  },
  {
   "cell_type": "code",
   "execution_count": 136,
   "metadata": {},
   "outputs": [
    {
     "data": {
      "image/png": "[encoded data removed]",
      "text/plain": [
       "<Figure size 432x288 with 1 Axes>"
      ]
     },
     "metadata": {
      "needs_background": "light"
     },
     "output_type": "display_data"
    }
   ],
   "source": [
    "#Negative sequences\n",
    "num_a = [x[2] for x in neg_sequences_subset]\n",
    "num_t = [x[3] for x in neg_sequences_subset]\n",
    "num_g = [x[4] for x in neg_sequences_subset]\n",
    "num_c = [x[5] for x in neg_sequences_subset]\n",
    "data = [num_a,num_t,num_g,num_c]\n",
    "# Multiple box plots on one Axes\n",
    "fig, ax = plt.subplots()\n",
    "ax.boxplot(data)\n",
    "bars = ('','A', 'T', 'G', 'C')\n",
    "y_pos = np.arange(len(bars))\n",
    "plt.title(\"Negative Sequences Subset\")\n",
    "plt.xticks(y_pos, bars)\n",
    "\n",
    "plt.show()"
   ]
  },
  {
   "cell_type": "code",
   "execution_count": 164,
   "metadata": {},
   "outputs": [],
   "source": [
    "#np.save(\"neg_sequences.npy\", neg_sequences_subset)\n",
    "#np.save(\"pos_sequences.npy\", pos_sequences)"
   ]
  },
  {
   "cell_type": "code",
   "execution_count": 1,
   "metadata": {},
   "outputs": [],
   "source": [
    "from BMI203_final_project import neuralnet\n",
    "from BMI203_final_project import io\n",
    "import numpy as np\n",
    "import random\n",
    "from scipy.interpolate import make_interp_spline, BSpline\n",
    "import matplotlib.pyplot as plt\n",
    "import time\n",
    "test = np.load(\"neg_sequences.npy\")\n",
    "test_2 = np.load(\"pos_sequences.npy\")\n",
    "pos_input = io.convert_to_numeric(test_2)\n",
    "neg_input = io.convert_to_numeric(test)\n",
    "training_input = pos_input + neg_input"
   ]
  },
  {
   "cell_type": "code",
   "execution_count": 2,
   "metadata": {},
   "outputs": [],
   "source": [
    "test = np.load(\"neg_sequences.npy\")\n",
    "test_2 = np.load(\"pos_sequences.npy\")\n",
    "pos_input = io.convert_to_numeric(test_2)\n",
    "neg_input = io.convert_to_numeric(test)\n",
    "training_input = pos_input + neg_input\n"
   ]
  },
  {
   "cell_type": "code",
   "execution_count": 6,
   "metadata": {},
   "outputs": [
    {
     "name": "stdout",
     "output_type": "stream",
     "text": [
      "Epochs complete in: 0.0640780488650004  min\n"
     ]
    }
   ],
   "source": [
    "net = neuralnet.Network([68,34,1])\n"
   ]
  },
  {
   "cell_type": "code",
   "execution_count": 7,
   "metadata": {},
   "outputs": [
    {
     "data": {
      "image/png": "[encoded data removed]",
      "text/plain": [
       "<Figure size 432x288 with 1 Axes>"
      ]
     },
     "metadata": {
      "needs_background": "light"
     },
     "output_type": "display_data"
    }
   ],
   "source": [
    "\n",
    "#Plot raw data\n",
    "x_points = np.array(list(range(len(net.cost_overall))))\n",
    "y_points = np.array(net.cost_overall)\n",
    "plt.plot(x_points,y_points)\n",
    "plt.xlabel(\"Iterations\")\n",
    "plt.ylabel(\"Cost\")\n",
    "plt.title(\"Eta = 1, Mini_batch = 10\")\n",
    "plt.show()"
   ]
  },
  {
   "cell_type": "code",
   "execution_count": 8,
   "metadata": {},
   "outputs": [
    {
     "name": "stdout",
     "output_type": "stream",
     "text": [
      "Epochs complete in: 0.15925861597061158  min\n"
     ]
    },
    {
     "data": {
      "image/png": "[encoded data removed]",
      "text/plain": [
       "<Figure size 432x288 with 1 Axes>"
      ]
     },
     "metadata": {
      "needs_background": "light"
     },
     "output_type": "display_data"
    }
   ],
   "source": [
    "net = neuralnet.Network([68,34,1])\n",
    "eta = 0.1\n",
    "iterations = 300\n",
    "net.SGD(training_input,iterations,10,eta)\n",
    "#Plot raw data\n",
    "x_points = np.array(list(range(len(net.cost_overall))))\n",
    "y_points = np.array(net.cost_overall)\n",
    "plt.plot(x_points,y_points)\n",
    "plt.xlabel(\"Iterations\")\n",
    "plt.ylabel(\"Cost\")\n",
    "plt.title(\"Eta = 0.1, Mini_batch = 10\")\n",
    "plt.show()"
   ]
  },
  {
   "cell_type": "code",
   "execution_count": 9,
   "metadata": {},
   "outputs": [
    {
     "name": "stdout",
     "output_type": "stream",
     "text": [
      "Epochs complete in: 0.04268706639607747  min\n"
     ]
    },
    {
     "data": {
      "image/png": "[encoded data removed]",
      "text/plain": [
       "<Figure size 432x288 with 1 Axes>"
      ]
     },
     "metadata": {
      "needs_background": "light"
     },
     "output_type": "display_data"
    }
   ],
   "source": [
    "net = neuralnet.Network([68,34,1])\n",
    "eta = 10\n",
    "iterations = 300\n",
    "net.SGD(training_input,iterations,10,eta)\n",
    "#Plot raw data\n",
    "x_points = np.array(list(range(len(net.cost_overall))))\n",
    "y_points = np.array(net.cost_overall)\n",
    "plt.plot(x_points,y_points)\n",
    "plt.xlabel(\"Iterations\")\n",
    "plt.ylabel(\"Cost\")\n",
    "plt.title(\"Eta = 10, Mini_batch = 10\")\n",
    "plt.show()"
   ]
  },
  {
   "cell_type": "code",
   "execution_count": 15,
   "metadata": {},
   "outputs": [
    {
     "name": "stdout",
     "output_type": "stream",
     "text": [
      "Epochs complete in: 0.33044495185216266  min\n"
     ]
    },
    {
     "data": {
      "image/png": "[encoded data removed]",
      "text/plain": [
       "<Figure size 432x288 with 1 Axes>"
      ]
     },
     "metadata": {
      "needs_background": "light"
     },
     "output_type": "display_data"
    }
   ],
   "source": [
    "net = neuralnet.Network([68,34,1])\n",
    "eta = 20\n",
    "iterations = 300\n",
    "net.SGD(training_input,iterations,10,eta)\n",
    "#Plot raw data\n",
    "x_points = np.array(list(range(len(net.cost_overall))))\n",
    "y_points = np.array(net.cost_overall)\n",
    "plt.plot(x_points,y_points)\n",
    "plt.xlabel(\"Iterations\")\n",
    "plt.ylabel(\"Cost\")\n",
    "plt.title(\"Eta = 20, Mini_batch = 10\")\n",
    "plt.show()"
   ]
  },
  {
   "cell_type": "code",
   "execution_count": 16,
   "metadata": {},
   "outputs": [
    {
     "data": {
      "image/png": "[encoded data removed]",
      "text/plain": [
       "<Figure size 432x288 with 1 Axes>"
      ]
     },
     "metadata": {
      "needs_background": "light"
     },
     "output_type": "display_data"
    }
   ],
   "source": [
    "#Plot raw data\n",
    "x_points = np.array(list(range(len(net.cost_overall))))\n",
    "y_points = np.array(net.cost_overall)\n",
    "plt.plot(x_points,y_points)\n",
    "plt.xlabel(\"Iterations\")\n",
    "plt.ylabel(\"Cost\")\n",
    "plt.title(\"Eta = 20, Mini_batch = 10\")\n",
    "plt.show()"
   ]
  },
  {
   "cell_type": "code",
   "execution_count": 10,
   "metadata": {},
   "outputs": [
    {
     "name": "stdout",
     "output_type": "stream",
     "text": [
      "Epochs complete in: 0.021962054570515952  min\n"
     ]
    },
    {
     "data": {
      "image/png": "[encoded data removed]",
      "text/plain": [
       "<Figure size 432x288 with 1 Axes>"
      ]
     },
     "metadata": {
      "needs_background": "light"
     },
     "output_type": "display_data"
    }
   ],
   "source": [
    "net = neuralnet.Network([68,34,1])\n",
    "eta = 1\n",
    "iterations = 300\n",
    "net.SGD(training_input,iterations,30,eta)\n",
    "#Plot raw data\n",
    "x_points = np.array(list(range(len(net.cost_overall))))\n",
    "y_points = np.array(net.cost_overall)\n",
    "plt.plot(x_points,y_points)\n",
    "plt.xlabel(\"Iterations\")\n",
    "plt.ylabel(\"Cost\")\n",
    "plt.title(\"Eta = 0.1, Mini_batch = 30\")\n",
    "plt.show()"
   ]
  },
  {
   "cell_type": "code",
   "execution_count": 5,
   "metadata": {},
   "outputs": [
    {
     "name": "stdout",
     "output_type": "stream",
     "text": [
      "Epochs complete in: 0.0373526136080424  min\n"
     ]
    },
    {
     "data": {
      "image/png": "[encoded data removed]",
      "text/plain": [
       "<Figure size 432x288 with 1 Axes>"
      ]
     },
     "metadata": {
      "needs_background": "light"
     },
     "output_type": "display_data"
    }
   ],
   "source": [
    "net = neuralnet.Network([68,34,1])\n",
    "eta = 1\n",
    "iterations = 300\n",
    "net.SGD(training_input,iterations,1,eta)\n",
    "#Plot raw data\n",
    "x_points = np.array(list(range(len(net.cost_overall))))\n",
    "y_points = np.array(net.cost_overall)\n",
    "plt.plot(x_points,y_points)\n",
    "plt.xlabel(\"Iterations\")\n",
    "plt.ylabel(\"Cost\")\n",
    "plt.title(\"Eta = 1, Mini_batch = 1\")\n",
    "plt.show()"
   ]
  },
  {
   "cell_type": "code",
   "execution_count": 6,
   "metadata": {},
   "outputs": [
    {
     "name": "stdout",
     "output_type": "stream",
     "text": [
      "Epochs complete in: 0.10698620080947877  min\n"
     ]
    },
    {
     "data": {
      "image/png": "[encoded data removed]",
      "text/plain": [
       "<Figure size 432x288 with 1 Axes>"
      ]
     },
     "metadata": {
      "needs_background": "light"
     },
     "output_type": "display_data"
    }
   ],
   "source": [
    "net = neuralnet.Network([68,34,1])\n",
    "eta = 1\n",
    "iterations = 300\n",
    "net.SGD(training_input,iterations,10,eta)\n",
    "#Plot raw data\n",
    "x_points = np.array(list(range(len(net.cost_overall))))\n",
    "y_points = np.array(net.cost_overall)\n",
    "plt.plot(x_points,y_points)\n",
    "plt.xlabel(\"Iterations\")\n",
    "plt.ylabel(\"Cost\")\n",
    "plt.title(\"Eta = 1, Mini_batch = 10\")\n",
    "plt.show()"
   ]
  },
  {
   "cell_type": "code",
   "execution_count": 7,
   "metadata": {},
   "outputs": [
    {
     "name": "stdout",
     "output_type": "stream",
     "text": [
      "Epochs complete in: 0.15337688525517781  min\n"
     ]
    },
    {
     "data": {
      "image/png": "[encoded data removed]",
      "text/plain": [
       "<Figure size 432x288 with 1 Axes>"
      ]
     },
     "metadata": {
      "needs_background": "light"
     },
     "output_type": "display_data"
    }
   ],
   "source": [
    "net = neuralnet.Network([68,34,1])\n",
    "eta = 1\n",
    "iterations = 300\n",
    "net.SGD(training_input,iterations,50,eta)\n",
    "#Plot raw data\n",
    "x_points = np.array(list(range(len(net.cost_overall))))\n",
    "y_points = np.array(net.cost_overall)\n",
    "plt.plot(x_points,y_points)\n",
    "plt.xlabel(\"Iterations\")\n",
    "plt.ylabel(\"Cost\")\n",
    "plt.title(\"Eta = 1, Mini_batch =50\")\n",
    "plt.show()"
   ]
  },
  {
   "cell_type": "code",
   "execution_count": 8,
   "metadata": {},
   "outputs": [
    {
     "data": {
      "image/png": "[encoded data removed]",
      "text/plain": [
       "<Figure size 432x288 with 1 Axes>"
      ]
     },
     "metadata": {
      "needs_background": "light"
     },
     "output_type": "display_data"
    }
   ],
   "source": [
    "x_points = np.array(list(range(len(net.cost_overall))))\n",
    "y_points = np.array(net.cost_overall)\n",
    "plt.plot(x_points,y_points)\n",
    "plt.xlabel(\"Iterations\")\n",
    "plt.ylabel(\"Cost\")\n",
    "plt.title(\"Eta = 1, Mini_batch =50\")\n",
    "plt.show()"
   ]
  },
  {
   "cell_type": "code",
   "execution_count": 7,
   "metadata": {},
   "outputs": [
    {
     "data": {
      "image/png": "[encoded data removed]",
      "text/plain": [
       "<Figure size 432x288 with 1 Axes>"
      ]
     },
     "metadata": {
      "needs_background": "light"
     },
     "output_type": "display_data"
    }
   ],
   "source": [
    "\n",
    "#Plot raw data\n",
    "x_points = np.array(list(range(len(net.cost_overall))))\n",
    "y_points = np.array(net.cost_overall)\n",
    "plt.plot(x_points,y_points)\n",
    "plt.xlabel(\"Iterations\")\n",
    "plt.ylabel(\"Cost\")\n",
    "plt.title(\"Eta = 1, Mini_batch = 10\")\n",
    "plt.show()"
   ]
  },
  {
   "cell_type": "code",
   "execution_count": 1,
   "metadata": {},
   "outputs": [],
   "source": [
    "from BMI203_final_project import neuralnet\n",
    "from BMI203_final_project import io\n",
    "import numpy as np\n",
    "import random\n",
    "from scipy.interpolate import make_interp_spline, BSpline\n",
    "import matplotlib.pyplot as plt\n",
    "import time\n",
    "test = np.load(\"neg_sequences.npy\")\n",
    "test_2 = np.load(\"pos_sequences.npy\")\n",
    "pos_input = io.convert_to_numeric(test_2)\n",
    "neg_input = io.convert_to_numeric(test)\n",
    "training_input = pos_input + neg_input\n",
    "net = neuralnet.Network([68,34,1])"
   ]
  },
  {
   "cell_type": "code",
   "execution_count": 35,
   "metadata": {},
   "outputs": [],
   "source": [
    "test = np.load(\"neg_sequences.npy\")"
   ]
  },
  {
   "cell_type": "code",
   "execution_count": 37,
   "metadata": {},
   "outputs": [
    {
     "data": {
      "text/plain": [
       "'CCGCCCATGTCTACCAG'"
      ]
     },
     "execution_count": 37,
     "metadata": {},
     "output_type": "execute_result"
    }
   ],
   "source": [
    "test[0][0]"
   ]
  },
  {
   "cell_type": "code",
   "execution_count": 33,
   "metadata": {},
   "outputs": [
    {
     "data": {
      "text/plain": [
       "'CCGCCCATGTCTACCAG'"
      ]
     },
     "execution_count": 33,
     "metadata": {},
     "output_type": "execute_result"
    }
   ],
   "source": [
    "test[0][0]"
   ]
  },
  {
   "cell_type": "code",
   "execution_count": 2,
   "metadata": {},
   "outputs": [
    {
     "name": "stdout",
     "output_type": "stream",
     "text": [
      "Epochs complete in: 0.0568030834197998  min\n"
     ]
    }
   ],
   "source": [
    "#net = neuralnet.Network([68,34,1])\n",
    "#SGD(self, training_data, epochs, mini_batch_size, eta)\n",
    "eta = 1\n",
    "iterations = 300\n",
    "net.SGD(training_input,iterations,10,eta)\n"
   ]
  },
  {
   "cell_type": "code",
   "execution_count": 3,
   "metadata": {},
   "outputs": [],
   "source": [
    "pos_output = net.output(pos_input)"
   ]
  },
  {
   "cell_type": "code",
   "execution_count": 5,
   "metadata": {},
   "outputs": [
    {
     "data": {
      "text/plain": [
       "[['ACATCCGTGCACCTCCG', 0.9965135924315345],\n",
       " ['ACACCCAGACATCGGGC', 0.9999897184615608],\n",
       " ['CCACCCGTACCCATGAC', 0.9989233258729021],\n",
       " ['GCACCCATACATTACAT', 0.9999717839846696],\n",
       " ['ACATCCATACACCCTCT', 0.9998823072048139],\n",
       " ['ACACCCTTACACTTTTA', 0.9999889281466692],\n",
       " ['GCATCCGTGCCTCCCAC', 0.9947185257472491],\n",
       " ['AAACCCATGCACAGTGA', 0.9996358398257271],\n",
       " ['ACATCCGTGCACCATTT', 0.9999174957845482],\n",
       " ['ACACCCATACATACGGA', 0.9996865130124832],\n",
       " ['ACACCCACACCCCGGGC', 0.9995536059572956],\n",
       " ['ACCTCCGTACACCAATC', 0.9977770290575505],\n",
       " ['ACACCCATACATGTTGA', 0.9999931477948635],\n",
       " ['TGACCCATACATTTCCT', 0.9996155398337867],\n",
       " ['ACATCCGTACATCAGAA', 0.9999673969702315],\n",
       " ['AAACCCATACATATCTT', 0.9997827145391145],\n",
       " ['TCACCCAGTCATCCAAC', 0.9998378727235541],\n",
       " ['AGACCCACACACCGCAT', 0.999959730937151],\n",
       " ['TAGCCCATACACCGCAG', 0.9999142221817913],\n",
       " ['ACACCCACACCCCTCAT', 0.9998639280891845],\n",
       " ['ACACCCACGCCCCGCAA', 0.9992551977526519],\n",
       " ['GAACCCACACCTCTCAC', 0.999102729214677],\n",
       " ['GCACCCACACATCGCAT', 0.9999788371990904],\n",
       " ['AAATCCGTGCACCGCAT', 0.9998193987539995],\n",
       " ['AAACCCATGCACCTCCA', 0.9987740605709207],\n",
       " ['ACACCCATTCACCGCAC', 0.9999929480539892],\n",
       " ['ACATCCGTGCACTGTGG', 0.9999261767240148],\n",
       " ['ACATCCATACATTCGGT', 0.9998689855203374],\n",
       " ['ACACCCATACATTTATA', 0.9999170783029324],\n",
       " ['ACACCCAGACACCTCAA', 0.9999939406132325],\n",
       " ['GCACCCGTACCCCACAA', 0.9999657818198265],\n",
       " ['ACATCCGAACACCAAAT', 0.9991529442417584],\n",
       " ['ACACCCATACCTCTCAG', 0.9999820773081025],\n",
       " ['GCACCCGCACACCGCAG', 0.9999662653868007],\n",
       " ['ACACCCACACATTTACA', 0.992711970841825],\n",
       " ['AAACCCATACAATATAT', 0.9999467487564149],\n",
       " ['ACATCCGTACACTTTTG', 0.9999502246233306],\n",
       " ['CCGCCCATACACCCCAT', 0.9999325140938462],\n",
       " ['GCACCCACACACCGGAC', 0.9999273709324161],\n",
       " ['ACACCCAAACATTAGGG', 0.9998786829144107],\n",
       " ['CCATCCATACATTTTGG', 0.9999007136370639],\n",
       " ['GCACCCATGCACCTCAC', 0.9998488640295091],\n",
       " ['GAACCCATTCACCACAT', 0.9999647726206482],\n",
       " ['CCATCCATACATGTTCA', 0.9998795562975895],\n",
       " ['ACACCCACACATATCTA', 0.9962574944302517],\n",
       " ['AAATCCGTACCTTTCCT', 0.9991941640288543],\n",
       " ['GAACCCACACACCACAC', 0.9994544904771626],\n",
       " ['AGACCCATACACCCGCT', 0.999929130059941],\n",
       " ['GCATCCATACACCCACC', 0.9809839673250083],\n",
       " ['GCACCCGTGCATCATAC', 0.9999729919334397],\n",
       " ['CCGCCCATACACCGCAC', 0.9999752520143718],\n",
       " ['TCACCCAGACACCTACG', 0.9999469130240826],\n",
       " ['TAACCCGTACATGCCCA', 0.9999702397952828],\n",
       " ['AAACCCAAACATATTAA', 0.9970401535960709],\n",
       " ['GCACCCAAACACCTGCA', 0.9992791038721633],\n",
       " ['AGATCCGTACATATCTC', 0.9955936961717524],\n",
       " ['ACACCCAAACATATCTA', 0.9978801738018834],\n",
       " ['ACACCCATACACACCAA', 0.9996444545145965],\n",
       " ['AGACCCATACATCATGA', 0.9999863507990527],\n",
       " ['TGACCCATACCCACCGA', 0.9878947196883995],\n",
       " ['GAACCCATACATTATTT', 0.9999755686796948],\n",
       " ['GCACCCACACATTCTAA', 0.9996635392215193],\n",
       " ['GCACCCAGACCATACGT', 0.9987652098516058],\n",
       " ['GCACCCACACATTACCG', 0.9967666154820506],\n",
       " ['GCACCCACACCTCGCAT', 0.9999523916157504],\n",
       " ['ACACCCATACCCCATAA', 0.9999340292204004],\n",
       " ['ACATCCATACATCTCCA', 0.9998698689671704],\n",
       " ['ACACCCGTACACTTTAT', 0.9999937631468258],\n",
       " ['AAATCCAGACACTTCCT', 0.9996413026891244],\n",
       " ['GCGCCCATACATCACAT', 0.9999436690258461],\n",
       " ['ACATCCACACCTCACTA', 0.9923795950799257],\n",
       " ['ACATCCTTGCACCACAC', 0.9990839271554594],\n",
       " ['CCACCCATGCACCGCAC', 0.9999792373615907],\n",
       " ['CCATCCATACATCCTTT', 0.9999649324748289],\n",
       " ['TAACCCATACATATCAT', 0.9995246143728505],\n",
       " ['ACATCCTCACACCACTA', 0.9991149395169583],\n",
       " ['GCACCCATGCATCCACT', 0.9988410848667838],\n",
       " ['ACACCCACACACGACTC', 0.999798747426854],\n",
       " ['AACTCCGTGCACCACAC', 0.9823913310254766],\n",
       " ['GCACCCATACCCAGAGT', 0.9976608062446152],\n",
       " ['ACATCCGTACATTTAGT', 0.9999096344345922],\n",
       " ['ACACCCGCACACCACAA', 0.9999633086418193],\n",
       " ['AGATCCGTACATCTTAG', 0.9999721169205629],\n",
       " ['ACACCCAAACATTCATT', 0.9991729586149036],\n",
       " ['ACATCCATACATTTATG', 0.9990760282518535],\n",
       " ['ACCTCCGTGCATCCTGT', 0.9994998123323077],\n",
       " ['ACACCCACGCATCTCAT', 0.9998267841302757],\n",
       " ['GCATCCGTGCCTCCTGG', 0.9976051064888882],\n",
       " ['ACATCCGAACATTTCAC', 0.9994794063128704],\n",
       " ['GGACCCATGCACCACAT', 0.9995534825282709],\n",
       " ['GCACCCAGTCACCGCCC', 0.9999653485486745],\n",
       " ['GAACCCATGCACCACAC', 0.999701807856362],\n",
       " ['AAACCCAGACATCCCAT', 0.9999909985615957],\n",
       " ['ACATCCGTGCATTACAT', 0.9995140204903201],\n",
       " ['ACATCCATACATTTTTT', 0.999957870133532],\n",
       " ['AAATCCGTACACACTAC', 0.9946154726631988],\n",
       " ['GCGTCCGTACACTGTCC', 0.993309810647453],\n",
       " ['GCACCCATACATTATAA', 0.9999697643564307],\n",
       " ['GCACCCATACATTTATA', 0.9998480168838618],\n",
       " ['ACACCCGTACATTTCAC', 0.9999910642452529],\n",
       " ['GAACCCAAACATTATAG', 0.9997390857072195],\n",
       " ['ACATCCATACCTTTCCT', 0.9989524321961009],\n",
       " ['GAACCCATTCATCCAAT', 0.9999086560281666],\n",
       " ['TAATCCGTACACCGCGC', 0.9999776040539972],\n",
       " ['ACGCCCAGACATAACAT', 0.9992631225737676],\n",
       " ['GCACCCGCGCCTTCCTC', 0.9809124068028325],\n",
       " ['CCACCCGAACACCTCAC', 0.9999737628571128],\n",
       " ['ACACCCATGCATTATTG', 0.9999441953453498],\n",
       " ['ACACCCGTACATATTAA', 0.9999600339335434],\n",
       " ['CCACCCGTACACCTCCC', 0.9999847807837563],\n",
       " ['AAACCCGGACATTCCAT', 0.9999910521616914],\n",
       " ['AAACCCATACACAATGA', 0.9996462037497307],\n",
       " ['ACACCCAAACATATGAT', 0.9986219681239846],\n",
       " ['ACACCCAGTCATCCGGC', 0.999903348295465],\n",
       " ['GAACCCATACCCCATTT', 0.9999403564353474],\n",
       " ['ACACCCATACAAACCCA', 0.9854551820049468],\n",
       " ['ACACCCATTCATCACGT', 0.9999926239516377],\n",
       " ['ACATCCGTACCTTTCCA', 0.9988951151009301],\n",
       " ['CCATCCATACCTTAGCA', 0.9859041826308121],\n",
       " ['ACACCCATGCATCATTC', 0.9999617441055608],\n",
       " ['GAACCCATACATTTCAA', 0.9999028044675526],\n",
       " ['ACATCCGTACATTCGAG', 0.9998657183120101],\n",
       " ['GAATCCACACACCGCAT', 0.9977580529868846],\n",
       " ['ACACCCTTACACTTCCT', 0.9999715747195702],\n",
       " ['AAACCCATACACCATTT', 0.9999902957213395],\n",
       " ['AAACCCATGCATCGGTT', 0.999967834826174],\n",
       " ['AAATCCGTACATTTCTG', 0.999757882761582],\n",
       " ['AAACCCAAACACCACAT', 0.9999514508989358],\n",
       " ['TCACCCGTACATCCACG', 0.9999214720546473],\n",
       " ['CCACCCACGCATCCAAA', 0.9854556885452243],\n",
       " ['GAATCCGTACATTTAGA', 0.9978149503556634],\n",
       " ['ACACCCAAGCACAGCAT', 0.9926691917784894],\n",
       " ['GAATCCTTACATCACAC', 0.9997808766384431],\n",
       " ['ACACCCATACCTTTAGG', 0.9996940747308295],\n",
       " ['AGACCCATACATCACAA', 0.9999857488773688],\n",
       " ['TAACCCATACACCTCAT', 0.9999747289400681],\n",
       " ['ACACCCATACACCAAAC', 0.9999409889087866],\n",
       " ['CGGAGGTGCACGGATGT', 0.9992953978333141],\n",
       " ['GCCCGATGTCTGGGTGT', 0.999980104494384],\n",
       " ['GTCATGGGTACGGGTGG', 0.9986829520504745],\n",
       " ['ATGTAATGTATGGGTGC', 0.9997361578848316],\n",
       " ['AGAGGGTGTATGGATGT', 0.9999779797689783],\n",
       " ['TAAAAGTGTAAGGGTGT', 0.9999922901062019],\n",
       " ['GTGGGAGGCACGGATGC', 0.9693160249148212],\n",
       " ['TCACTGTGCATGGGTTT', 0.9999988090828601],\n",
       " ['AAATGGTGCACGGATGT', 0.999963887237024],\n",
       " ['TCCGTATGTATGGGTGT', 0.9999786510200156],\n",
       " ['GCCCGGGGTGTGGGTGT', 0.9999799613965845],\n",
       " ['GATTGGTGTACGGAGGT', 0.9957980045753881],\n",
       " ['TCAACATGTATGGGTGT', 0.9999992182840993],\n",
       " ['AGGAAATGTATGGGTCA', 0.9988412179093591],\n",
       " ['TTCTGATGTACGGATGT', 0.9985391769710392],\n",
       " ['AAGATATGTATGGGTTT', 0.9999705715345053],\n",
       " ['GTTGGATGACTGGGTGA', 0.9970801718441477],\n",
       " ['ATGCGGTGTGTGGGTCT', 0.9999219470509585],\n",
       " ['CTGCGGTGTATGGGCTA', 0.9999426927576508],\n",
       " ['ATGAGGGGTGTGGGTGT', 0.9995645288551263],\n",
       " ['TTGCGGGGCGTGGGTGT', 0.9999512128755613],\n",
       " ['GTGAGAGGTGTGGGTTC', 0.9932373995740889],\n",
       " ['ATGCGATGTGTGGGTGC', 0.9998747119564135],\n",
       " ['ATGCGGTGCACGGATTT', 0.9999619770908907],\n",
       " ['TGGAGGTGCATGGGTTT', 0.999305173373821],\n",
       " ['GTGCGGTGAATGGGTGT', 0.9999951302573807],\n",
       " ['CCACAGTGCACGGATGT', 0.9999966670040545],\n",
       " ['ACCGAATGTATGGATGT', 0.9999382331307554],\n",
       " ['TATAAATGTATGGGTGT', 0.9999355458502556],\n",
       " ['TTGAGGTGTCTGGGTGT', 0.999953508191609],\n",
       " ['TTGTGGGGTACGGGTGC', 0.9983826507905544],\n",
       " ['ATTTGGTGTTCGGATGT', 0.9776538454620083],\n",
       " ['CTGAGAGGTATGGGTGT', 0.9999746729804513],\n",
       " ['CTGCGGTGTGCGGGTGC', 0.9997231097018543],\n",
       " ['TGTAAATGTGTGGGTGT', 0.9987011258360857],\n",
       " ['ATATATTGTATGGGTTT', 0.9998843336857958],\n",
       " ['CAAAAGTGTACGGATGT', 0.9999298069248149],\n",
       " ['ATGGGGTGTATGGGCGG', 0.9994791475614478],\n",
       " ['GTCCGGTGTGTGGGTGC', 0.9998279254827037],\n",
       " ['CCCTAATGTTTGGGTGT', 0.9998646263722173],\n",
       " ['CCAAAATGTATGGATGG', 0.9999763472584668],\n",
       " ['GTGAGGTGCATGGGTGC', 0.9992849842872094],\n",
       " ['ATGTGGTGAATGGGTTC', 0.9998688753178611],\n",
       " ['TGAACATGTATGGATGG', 0.9999861258361946],\n",
       " ['TAGATATGTGTGGGTGT', 0.9997308783134713],\n",
       " ['AGGAAAGGTACGGATTT', 0.9991649278314466],\n",
       " ['GTGTGGTGTGTGGGTTC', 0.9854244428511568],\n",
       " ['AGCGGGTGTATGGGTCT', 0.999289876011301],\n",
       " ['GGTGGGTGTATGGATGC', 0.993445599896529],\n",
       " ['GTATGATGCACGGGTGC', 0.9993339407833243],\n",
       " ['GTGCGGTGTATGGGCGG', 0.9999556954389235],\n",
       " ['CGTAGGTGTCTGGGTGA', 0.9998802817949385],\n",
       " ['TGGGCATGTACGGGTTA', 0.9999347407755957],\n",
       " ['TTAATATGTTTGGGTTT', 0.9997956044172446],\n",
       " ['TGCAGGTGTTTGGGTGC', 0.9964968093901692],\n",
       " ['GAGATATGTACGGATCT', 0.9934807012805285],\n",
       " ['TAGATATGTTTGGGTGT', 0.9993721881399712],\n",
       " ['TTGGTGTGTATGGGTGT', 0.9995766006232526],\n",
       " ['TCATGATGTATGGGTCT', 0.9999954333372739],\n",
       " ['TCGGTGGGTATGGGTCA', 0.9735913143973144],\n",
       " ['AAATAATGTATGGGTTC', 0.9999893584391867],\n",
       " ['TTAGAATGTGTGGGTGC', 0.9996836563256872],\n",
       " ['ACGTATGGTCTGGGTGC', 0.9848639576104001],\n",
       " ['CGGTAATGTGTGGGTGC', 0.9977058963636984],\n",
       " ['ATGCGAGGTGTGGGTGC', 0.9998559892932026],\n",
       " ['TTATGGGGTATGGGTGT', 0.9999906185096312],\n",
       " ['TGGAGATGTATGGATGT', 0.99984270928196],\n",
       " ['ATAAAGTGTACGGGTGT', 0.9999785508549287],\n",
       " ['AGGAAGTGTCTGGATTT', 0.9996025581059348],\n",
       " ['ATGTGATGTATGGGCGC', 0.9985962551788987],\n",
       " ['TAGTGAGGTGTGGATGT', 0.9961986023833259],\n",
       " ['GTGTGGTGCAAGGATGT', 0.9990585196849984],\n",
       " ['GTGCGGTGCATGGGTGG', 0.9999839114799981],\n",
       " ['AAAGGATGTATGGATGG', 0.9999718624469517],\n",
       " ['ATGATATGTATGGGTTA', 0.9996839630391281],\n",
       " ['TAGTGGTGTGAGGATGT', 0.9965182047952325],\n",
       " ['AGTGGATGCATGGGTGC', 0.9998107379333734],\n",
       " ['GAGTCGTGTGTGGGTGT', 0.9998821688702525],\n",
       " ['GTGTGGTGCACGGAGTT', 0.978812331489878],\n",
       " ['ACTCTGGGTATGGGTGC', 0.9999878781304522],\n",
       " ['ACTAAATGTACGGATGT', 0.9996616366419063],\n",
       " ['TTGTGGTGTGCGGGTGT', 0.9986714877550791],\n",
       " ['CTAAGATGTACGGATCT', 0.9997496976704923],\n",
       " ['AATGAATGTTTGGGTGT', 0.9982762645518138],\n",
       " ['CATAAATGTATGGATGT', 0.9997834544621218],\n",
       " ['ACAGGATGCACGGAGGT', 0.9999254574011245],\n",
       " ['ATGAGATGCGTGGGTGT', 0.9995348512303518],\n",
       " ['CCAGGAGGCACGGATGC', 0.9996837078788632],\n",
       " ['GTGAAATGTTCGGATGT', 0.9640275797353538],\n",
       " ['ATGTGGTGCATGGGTCC', 0.9984411053662087],\n",
       " ['GGGCGGTGACTGGGTGC', 0.9997075297468864],\n",
       " ['GTGTGGTGCATGGGTTC', 0.9992306263246453],\n",
       " ['ATGGGATGTCTGGGTTT', 0.9999392882178222],\n",
       " ['ATGTAATGCACGGATGT', 0.9987057938472718],\n",
       " ['AAAAAATGTATGGATGT', 0.999987225374772],\n",
       " ['GTAGTGTGTACGGATTT', 0.999280501795045],\n",
       " ['GGACAGTGTACGGACGC', 0.9997372200889506],\n",
       " ['TTATAATGTATGGGTGC', 0.9999627461921964],\n",
       " ['TATAAATGTATGGGTGC', 0.9998506866847351],\n",
       " ['GTGAAATGTACGGGTGT', 0.9997981250848299],\n",
       " ['CTATAATGTTTGGGTTC', 0.9993907420231167],\n",
       " ['AGGAAAGGTATGGATGT', 0.9998375158240531],\n",
       " ['ATTGGATGAATGGGTTC', 0.9998412512105002],\n",
       " ['GCGCGGTGTACGGATTA', 0.9999115038185649],\n",
       " ['ATGTTATGTCTGGGCGT', 0.9970855400770717],\n",
       " ['GAGGAAGGCGCGGGTGC', 0.9833417317539233],\n",
       " ['GTGAGGTGTTCGGGTGG', 0.990167221740262],\n",
       " ['CAATAATGCATGGGTGT', 0.9999977451157346],\n",
       " ['TTAATATGTACGGGTGT', 0.9999789066183282],\n",
       " ['GGGAGGTGTACGGGTGG', 0.9996919550555382],\n",
       " ['ATGGAATGTCCGGGTTT', 0.9997371473489055],\n",
       " ['TCATTGTGTATGGGTTT', 0.9999933372932056],\n",
       " ['ATCATATGTTTGGGTGT', 0.9992254854313392],\n",
       " ['GCCGGATGACTGGGTGT', 0.9998373892522279],\n",
       " ['AAATGGGGTATGGGTTC', 0.9999655263525491],\n",
       " ['TGGGTTTGTATGGGTGT', 0.9875908687106967],\n",
       " ['ACGTGATGAATGGGTGT', 0.999991889866661],\n",
       " ['TGGAAAGGTACGGATGT', 0.9994770484324896],\n",
       " ['TGCTAAGGTATGGATGG', 0.9984435710766355],\n",
       " ['GAATGATGCATGGGTGT', 0.9999962866482396],\n",
       " ['TTGAAATGTATGGGTTC', 0.9997232588102958],\n",
       " ['CTCGAATGTACGGATGT', 0.999266559540187],\n",
       " ['ATGCGGTGTGTGGATTC', 0.9990201431350336],\n",
       " ['AGGAAGTGTAAGGGTGT', 0.9999690601025502],\n",
       " ['AAATGGTGTATGGGTTT', 0.9999968951067749],\n",
       " ['AACCGATGCATGGGTTT', 0.9999987825740364],\n",
       " ['CAGAAATGTACGGATTT', 0.9996891467017918],\n",
       " ['ATGTGGTGTTTGGGTTT', 0.998398915938061],\n",
       " ['CGTGGATGTACGGGTGA', 0.9997765826562491],\n",
       " ['TTTGGATGCGTGGGTGG', 0.9906948849243736],\n",
       " ['TCTAAATGTACGGATTC', 0.996090147495483],\n",
       " ['ATGCTGTGCTTGGGTGT', 0.9998863128288616],\n",
       " ['GTGTGATGTAAGGATTC', 0.9760543459835439],\n",
       " ['CCTAAAGGTATGGGTGT', 0.9999667266969068],\n",
       " ['TTGTGATGTATGGGTCT', 0.9997229051476414],\n",
       " ['ATGAGGTGTATGGGTTA', 0.9997981555528861],\n",
       " ['GTTTGGTGTATGGGTGT', 0.999844441330225]]"
      ]
     },
     "execution_count": 5,
     "metadata": {},
     "output_type": "execute_result"
    }
   ],
   "source": [
    "pos_output"
   ]
  },
  {
   "cell_type": "code",
   "execution_count": 6,
   "metadata": {},
   "outputs": [],
   "source": [
    "neg_output = net.output(neg_input)"
   ]
  },
  {
   "cell_type": "code",
   "execution_count": 7,
   "metadata": {},
   "outputs": [
    {
     "data": {
      "text/plain": [
       "[['CCGCCCATGTCTACCAG', 9.087909144694921e-06],\n",
       " ['ACGACAGTCCCGGCACA', 0.019740391192596064],\n",
       " ['CTCGCCCCGACCTCAAA', 8.463374419485295e-12],\n",
       " ['CAAACTACCAGTCATTC', 6.53620191008626e-09],\n",
       " ['TACTACCACCACTACCT', 7.813567032481e-09],\n",
       " ['CTTCTTCCCTTACAAAA', 1.5471562770718872e-12],\n",
       " ['CCTCGCGTCACCATCCG', 3.484276422379581e-06],\n",
       " ['CGGGAAAACATATCACC', 2.663742296905264e-11],\n",
       " ['GCAGCATCATCATCTTC', 5.698108605599378e-07],\n",
       " ['ACCAATCTGACAACCAG', 5.792499578841115e-13],\n",
       " ['GCCCACCCAACCGCACG', 4.8175132715818875e-09],\n",
       " ['TCACCTACTCACACACG', 2.856633526209784e-07],\n",
       " ['TCTGAAAAGCCTCATCA', 1.0394076655157187e-08],\n",
       " ['ACAAACTCTTCTGCTTC', 0.0006171441345978606],\n",
       " ['GAAAGCACATCTTACAC', 7.872260590346084e-07],\n",
       " ['CATACAAATCCTTTCAA', 1.2830549278739047e-05],\n",
       " ['CCCACCACCTGATAATC', 7.2152193812728e-12],\n",
       " ['AAGCCCAATCCCACGCA', 0.00010104418745053305],\n",
       " ['TGAAGACCTCACCCACG', 7.08875756555243e-10],\n",
       " ['CCAACCCCACTACCACT', 2.3954232984986587e-07],\n",
       " ['ACGCCCCCCCCACAAGA', 9.231007265016275e-06],\n",
       " ['CACATCCCCTCAAGCAC', 1.256290064195633e-12],\n",
       " ['ATGCACCCTACAGCCCA', 3.1941761524923244e-09],\n",
       " ['TGCACCATGGTCAAACC', 5.4174377037636116e-11],\n",
       " ['ATTCAACGACCCCAACC', 2.287245743671353e-06],\n",
       " ['CCGAACCACCATCCATC', 4.069138510880799e-09],\n",
       " ['GTCGGAAATCTCTGCGC', 4.106913016383055e-06],\n",
       " ['AAACCCTGCTGCAATTT', 0.003503416865305167],\n",
       " ['ACTCAATTCATTACAAC', 5.942022443953659e-08],\n",
       " ['GCACATCAAACCCCACA', 7.150005037074394e-11],\n",
       " ['GGATCACACACCCCCCA', 2.6069547061263182e-09],\n",
       " ['CATTCAACAACACCAAG', 6.542021343953801e-09],\n",
       " ['CAACACACGCACTCTCT', 0.009406084061354365],\n",
       " ['ACCAGCACCGCACGCCG', 5.281925299237166e-09],\n",
       " ['ACCAACAATCTCCATCA', 8.332505156568067e-05],\n",
       " ['AATACATAATCAATCAC', 2.390885514345307e-10],\n",
       " ['AAGATCCTCGATTTCCT', 8.063072856870715e-10],\n",
       " ['TCACACCAACCTCCGCC', 0.0003714019338797339],\n",
       " ['CAGCACCCAGCAACCGC', 1.5595502843177918e-11],\n",
       " ['GAACTAAGCAGTCCCAA', 0.00012913334246338103],\n",
       " ['CCGATTTTTCAAACCTG', 1.0093751170234403e-09],\n",
       " ['CTCTCCCCACAAAGCCG', 1.376922796130945e-08],\n",
       " ['CATACACGTTCAAACCC', 9.33406867371217e-12],\n",
       " ['TACCTATACTATCGCCA', 3.5838654558076652e-06],\n",
       " ['CACCCACACATTTACAA', 8.493193753580791e-08],\n",
       " ['AGACTCTCTATTCCCTA', 0.010360261204024215],\n",
       " ['CACAAACCCAAACGCCC', 1.5957830491510346e-10],\n",
       " ['ATCGCCCCCTCACAGAA', 1.1208703234714273e-11],\n",
       " ['AAACCGCCTCCTCCACA', 3.321685818443975e-06],\n",
       " ['ACCCAGACCTTGCTGCA', 4.863650484573321e-07],\n",
       " ['AACACCCAGCCGCCTCC', 1.1305968906265091e-05],\n",
       " ['ACATCACCGCCGCCATA', 3.3528389817845885e-05],\n",
       " ['GTATACCCCATACCCAG', 5.442884674638527e-10],\n",
       " ['AAATATACTACCAAACA', 4.388605623976127e-12],\n",
       " ['GCATCCACAAACGACCC', 0.030059723296697382],\n",
       " ['ATCTTGGCCAAAACTTC', 4.29989125510802e-11],\n",
       " ['CAATCAACTTCCACAAA', 1.647809524192757e-10],\n",
       " ['CACACTACCAAACCAAC', 7.712178225007469e-11],\n",
       " ['ATCACATAATACCCGGA', 1.2477522131049723e-06],\n",
       " ['CTAAGCCCAATCCCACG', 3.3358547788950715e-10],\n",
       " ['ATAACAGTTTTCTACCA', 1.820088113711123e-06],\n",
       " ['ACCTCCATCATACGAAC', 0.0032001253297035638],\n",
       " ['GTCCCACCCCAGGTAAA', 0.00010851123091508362],\n",
       " ['AAGCTCTACCGCACCCA', 5.185310906764695e-09],\n",
       " ['CAGCCCACGACCTCCAT', 0.00015793382171006793],\n",
       " ['CAACTACCACATCCACA', 1.1421520490116237e-06],\n",
       " ['CCCATTTCAACAACCTA', 5.837924592125696e-12],\n",
       " ['AAATTCCGCCCATATCT', 1.5593951120681886e-05],\n",
       " ['AACTCTACTAACACTGC', 7.20882463591193e-09],\n",
       " ['ACCCACGGTACCTTACA', 0.0009910091466724623],\n",
       " ['TACCAACACTCCATCCA', 2.6421342823117724e-12],\n",
       " ['CACCTCAACTCCATCAG', 9.502005210801086e-10],\n",
       " ['CCAACCGACCGTCCACC', 2.1607951791477496e-05],\n",
       " ['TCCTCCACATCATTTAC', 4.045403345504349e-07],\n",
       " ['CCATTCAAAATACTCTA', 5.4027195644385976e-05],\n",
       " ['TACCCACTACAACCATC', 0.00015057173865673848],\n",
       " ['CCTATCCGCACGTCCAA', 2.538743110086488e-06],\n",
       " ['CATCCACCGACAACCCA', 4.445122362236659e-12],\n",
       " ['ATGCCCCCACTCCAGAA', 0.0008671294264302613],\n",
       " ['CCCCACCGCATGTGAAA', 0.004108722228346272],\n",
       " ['CACCGAGTTACATATTT', 0.0013782272694881515],\n",
       " ['ACACCCCGCCCACAAAA', 0.014595677940699752],\n",
       " ['CGCAGATCTTAAACTGT', 2.2089690416331772e-10],\n",
       " ['CATATCACATAATACCC', 1.715691173808712e-10],\n",
       " ['CCTCATATATGTATACA', 7.05090425464165e-12],\n",
       " ['TCCTCTTCACCCAGGTG', 3.6513037681641824e-07],\n",
       " ['CACCCACAATTCGTCAC', 1.9096650265118862e-07],\n",
       " ['TACCCGTCGGCGCTTCG', 6.901424660129628e-05],\n",
       " ['ATCTGATTCAAAACCCC', 2.198024643762794e-09],\n",
       " ['GTAAATCCCCCACGACG', 3.5168647785913532e-12],\n",
       " ['ACCAGGGACCTCCCCCC', 2.581923151300878e-07],\n",
       " ['CACAACCGCCACCGAAT', 1.8302568472623797e-05],\n",
       " ['TAACACACAACTCCAGC', 0.006410442570828734],\n",
       " ['CTATCGACAACCATTTG', 3.248966918098092e-07],\n",
       " ['AATAATTTCCCTTTTCA', 8.616797520500644e-09],\n",
       " ['TCCTTGCAACCAAACAA', 8.332991346476865e-12],\n",
       " ['GCTGCCTTGCCCGACAT', 0.017210856900949745],\n",
       " ['AAAATCAATCTCCATCG', 0.0020470278787570414],\n",
       " ['CAGTTCAAACTACATTC', 0.00016442808673179958],\n",
       " ['TAATCCTATGAACCCCC', 7.905349499795684e-05],\n",
       " ['CCATTCATGAAGAACAA', 0.004221150045374648],\n",
       " ['ACTATCTCATTTACCCC', 8.734783423041562e-11],\n",
       " ['AACCGATATTTACCCCA', 5.4505286662804594e-08],\n",
       " ['AGCGACGCATCCCTATC', 9.513162674086252e-10],\n",
       " ['ATTCAAACAAAGGCCCC', 0.002442343967422449],\n",
       " ['CACCTCCTCGGCGCCTC', 6.665908528414759e-10],\n",
       " ['ACCAACCCACCGTCCAC', 3.6030979796172675e-06],\n",
       " ['CCTGAATTCATTGACAC', 0.00014839189970723845],\n",
       " ['ATAAACCACGTCCTAAT', 2.4401931405812976e-10],\n",
       " ['CCGCCCTTCCCCACACA', 0.0007428238059205432],\n",
       " ['AGAACCGATTACTCCCA', 4.39099815147428e-06],\n",
       " ['CAAAACGAACAATCTAC', 0.005922594903033933],\n",
       " ['CAAAAGCCTTATCAAAC', 2.1440239868283955e-11],\n",
       " ['CCAGCCATTGGCAACCC', 1.4788145307879453e-08],\n",
       " ['ATTTACCCAAACCCTGC', 1.280583312601217e-08],\n",
       " ['TCAAACCACACCACACA', 6.068350962990715e-12],\n",
       " ['CCATCACTAACTCGACT', 0.00030433562937841194],\n",
       " ['GCACATCCACTCTCATT', 1.44696630086838e-09],\n",
       " ['CACAAGTCTCCTACTAC', 1.0922324258590641e-08],\n",
       " ['ACTTCAACACGATTCCC', 1.4610449725914779e-08],\n",
       " ['TATAACCGCATACCATA', 4.3977851946414356e-09],\n",
       " ['ACGAAAAGGTTTCCTCC', 7.897723284949384e-08],\n",
       " ['ACAACCAGACCTACTGC', 0.034675368313592414],\n",
       " ['CAATACTCCCTCCTCTA', 0.0018823041896154588],\n",
       " ['CCCTTTTCAAAACCAAA', 2.988232852364284e-10],\n",
       " ['AAAAGTTACCTGGTCCC', 0.0011094282923340417],\n",
       " ['GCTATATATACCGTCAT', 9.164514381491917e-06],\n",
       " ['ACAACCAACCACAACTA', 0.007070277687887502],\n",
       " ['CACCAGCCATTGTACCC', 1.8421497450453246e-09],\n",
       " ['CACCACCAACCACCTGA', 1.115615793541314e-05],\n",
       " ['TCGCATGTATTCGAAAA', 1.1229922780417789e-07],\n",
       " ['AGAAACGCCTCCACACA', 1.9950583125674688e-11],\n",
       " ['AGCACCATTCTAACTCA', 1.9682466674529103e-06],\n",
       " ['CGCGTATCCTCAACTAA', 2.8277362927344083e-12],\n",
       " ['CACATCAATAACACCGA', 5.385811092112459e-09],\n",
       " ['TCTAAAATCATCCCACC', 1.1090981938627492e-09],\n",
       " ['ACCAAAACACACCCCTA', 1.8324586250430802e-05],\n",
       " ['GCTGTGCAGCGGGATAG', 4.782997855161506e-10],\n",
       " ['CTGGGTGTTCATGGGCC', 9.242401496799832e-06],\n",
       " ['CGGGTAAGGGGTGTCTG', 8.916435647255796e-10],\n",
       " ['TATGTGACGTTAAGGTG', 1.0634268496462612e-11],\n",
       " ['GGATGGGGAGTAATTGT', 2.799591211040471e-06],\n",
       " ['GATATGAGGATATTGGA', 1.409196007221903e-09],\n",
       " ['GTCAGGGGCCAGATGGG', 0.0021966638325963948],\n",
       " ['TGCAGCGTTTGTTTGCA', 9.16393306454239e-10],\n",
       " ['TTCCAGGAAGTGATGGA', 1.8162578300813736e-07],\n",
       " ['CTGGTGTCGATGAGTTT', 2.859304204051141e-06],\n",
       " ['TGGCGGTGGTCGTGGCG', 0.0004634862280002265],\n",
       " ['GTTAGTGGTGAGAGGTC', 1.0330698015232035e-07],\n",
       " ['GGTAATCCTTGTAAGGT', 8.579001786964946e-14],\n",
       " ['GAAGGATATGTTACGGA', 1.4618915804762788e-09],\n",
       " ['ACTTGGCATTAGTGTTG', 3.7687615134254384e-08],\n",
       " ['AAGTTTTTTGAAATGGG', 9.73146987845538e-11],\n",
       " ['GATAAGGGGTCGTTGGT', 7.189668228868106e-07],\n",
       " ['GTGTTGGTATCGCGGGT', 0.00022475258054016522],\n",
       " ['GTGTGATGTCCGGATGC', 0.0927481862573514],\n",
       " ['GTGATGGAGTGGGGGTT', 1.0433097438164017e-07],\n",
       " ['GTGCTGTGGTGCTGGGG', 2.3370658389356583e-08],\n",
       " ['AGGGTGGCTATGTTGGG', 7.782904017599418e-07],\n",
       " ['TAGTAGTCGGTGCTGGG', 1.3216884502046306e-07],\n",
       " ['TGGCGACGTTTATAGCG', 7.032046482360504e-10],\n",
       " ['GCTGAGATTGGTGTGTG', 7.37902105495231e-10],\n",
       " ['TAGTGCTGGTGGTGGGA', 1.8256592672350117e-05],\n",
       " ['ATACAGCAGCGTGGCCT', 2.9779107424930905e-08],\n",
       " ['TGCAACTGAGGTAGATT', 4.904549133540391e-09],\n",
       " ['GTGAGTAGTATGTTTAA', 3.898810438200805e-05],\n",
       " ['CGGTTTTGGGTATGGGT', 6.148557798048666e-09],\n",
       " ['GCCGGTGGTGATGGTGT', 0.006399692965562708],\n",
       " ['TGGGCTTGATTGTTTGA', 0.00011281080203878925],\n",
       " ['GTTAGGGTAAGGCTTGG', 1.0067799944831549e-05],\n",
       " ['GTGCCGGGGGGTGCCTT', 1.5245997735194652e-05],\n",
       " ['GATTGTGATGTATGGGT', 8.772271451262997e-10],\n",
       " ['TATTTGTAGTATTGTGA', 1.128720827962173e-08],\n",
       " ['AGCGGTACAATAGTTGA', 2.355676649046501e-09],\n",
       " ['GGAGGGGGGAGGTTTTC', 8.650237045823661e-06],\n",
       " ['GGGTTGTGGCTTGGCGC', 0.010506128938625948],\n",
       " ['GTAGGTTTGGTTCTCAC', 6.845952563748217e-09],\n",
       " ['GAAGAATGGACGATCTT', 0.00025452972162969857],\n",
       " ['GGGCTGCAAGGTGTGGT', 2.451777813545746e-10],\n",
       " ['GAGTTAGGTTGCTTGGA', 2.7894511455385684e-09],\n",
       " ['TGTAATGAGGGTCTAAG', 2.4334828975810786e-12],\n",
       " ['TTTGTTGAGATGGTGGA', 3.3148033786964673e-08],\n",
       " ['GTGGTAATCAAGTGAGA', 4.020016952739737e-06],\n",
       " ['GGTGTGTGTGTTGTGCG', 1.5889334977003536e-07],\n",
       " ['TTGCTGGGGTATGCAGG', 1.8378897441268206e-06],\n",
       " ['GGTGATGTGTTGGCAGG', 2.2524453231137203e-09],\n",
       " ['ATATGGATGGCGGGTCC', 0.010480343644568362],\n",
       " ['GTGGAGCGGCTGGTGGT', 6.849796151811884e-06],\n",
       " ['GAGGCTTTGGTCTAGGG', 1.837214526250524e-09],\n",
       " ['TAGGGGGTTTGACGCTA', 2.6388772518983094e-09],\n",
       " ['ATGTGATTTGTTGATTT', 0.0009758111284829392],\n",
       " ['ATGGCTGGTTTGGTGGC', 0.0035173010761257407],\n",
       " ['TAGTAATCAGATTGCGG', 2.715564731864666e-06],\n",
       " ['GGGATTGATGTTGATTT', 1.0309429760192414e-08],\n",
       " ['TGTGTGTGTGTGTGGAT', 0.0006198233625801761],\n",
       " ['GCCGTTTTTGAGGATAT', 0.0001888882055420043],\n",
       " ['TGCTGTTGATAGGCGGG', 0.0013301185151520266],\n",
       " ['AGTTGTAATAAGGTCAT', 2.7558369636848744e-05],\n",
       " ['TGTTTGATGTCGAGGGA', 1.589049188083108e-09],\n",
       " ['TTGGCCTTGGTGGACGA', 0.004107414791131096],\n",
       " ['CGGTTGGGTGGTAGATC', 4.985088076739998e-11],\n",
       " ['ACGTGATTGGGGGTGGC', 9.399141339202824e-06],\n",
       " ['TGAGGTGTGGTATGTGT', 2.537815748349753e-08],\n",
       " ['AAGTATTGGTGAGGTGT', 2.0012125419150774e-08],\n",
       " ['GTCAAGTTTGGAGGTAA', 9.636512570306447e-09],\n",
       " ['TATGCGGGTAAGAGTTT', 0.015285820395325377],\n",
       " ['TGATGTAGTGGCAGCTG', 1.832699173189496e-10],\n",
       " ['TGGTGGGTAAGTTTGGA', 5.030783770798635e-08],\n",
       " ['TGGGTGTATTACGGGAG', 2.2503130084510034e-07],\n",
       " ['GGTTGGTCTGGAGGCGG', 4.105448985802707e-09],\n",
       " ['AAATGGGTGTAGGTAGA', 0.00032472944770602037],\n",
       " ['ATTGTTTGGAAGAGATT', 9.887869724043158e-08],\n",
       " ['TTGGGGATGGGTTTAAG', 2.5302071154142205e-11],\n",
       " ['TTGGATGGGGCCAAGGT', 2.0186284252565804e-11],\n",
       " ['TCGGTGATGTGTGGGTG', 1.458473940067428e-09],\n",
       " ['GCGGAGGGTTCGGTTTA', 0.009853499376795496],\n",
       " ['CGAGGATGGTGCTTGTC', 7.568546568844329e-10],\n",
       " ['TCTAGGAATTCTAGGAA', 5.4717372588099076e-11],\n",
       " ['GTGCGGTGTTTTGTGGG', 0.0075520890022345135],\n",
       " ['CTTCGTAGAAATGCATG', 5.927903990898119e-05],\n",
       " ['TAGGTTGATAGGTGTTA', 1.5260313827120863e-08],\n",
       " ['GGATTTAGTTATAAAGC', 1.1440611038811492e-09],\n",
       " ['AGGCAGGCGTATGCAGA', 1.8746013157798005e-08],\n",
       " ['ATGCGGATGGTGAGTGT', 0.0002965209176981009],\n",
       " ['GAGAGCCAGCGTAGCCG', 5.574637371914253e-12],\n",
       " ['AGAGAGTCTTGTGGTAT', 3.239763203886806e-07],\n",
       " ['GGAGGTCCTGTGTTCGA', 1.38347709569479e-10],\n",
       " ['TTAGGCGGGGCCTGGGG', 0.0002838112427816219],\n",
       " ['CTTGGTGGTGGTGTAGC', 9.068039710659727e-11],\n",
       " ['TACTGGTGGTAGGTTTG', 0.006703881637401943],\n",
       " ['GTCATCGAGTAATTGAG', 2.0626195333421426e-10],\n",
       " ['AAATAGTGTTGGAATAA', 1.106897732293507e-06],\n",
       " ['GTGCGTTAGAATTGTTG', 1.1139244294981602e-06],\n",
       " ['CCGGAAACGCTGATGGG', 3.284897577777851e-08],\n",
       " ['TGCTAGATTTTGTGAAG', 2.770662843344169e-07],\n",
       " ['GTATCTTTTGAGGAGAA', 0.0050747699572895235],\n",
       " ['TACAGGATTGATGGGTG', 2.1912613416092172e-05],\n",
       " ['TTGACTTTGTTGGAATC', 4.680098338089289e-08],\n",
       " ['TTTGGGGATAAAAGGAG', 1.209287801531778e-09],\n",
       " ['GTGTGAGTAAAGTGTCT', 0.013478894251289886],\n",
       " ['CTGAGGGTGAGCAGTCT', 6.622648369244582e-10],\n",
       " ['GGGTCGTTGAAGTTTCT', 0.0004674156674256555],\n",
       " ['GAGGGGCAACGGCGGGT', 7.431160189521006e-08],\n",
       " ['TGGCGGGTGTATGGGTG', 0.00015936742786526014],\n",
       " ['AGTGGTTAATTGAGCCA', 5.17799834829654e-10],\n",
       " ['TTTACGGGGGATATTAT', 6.711065735432113e-08],\n",
       " ['GCGTGGGGAAGTGGGGT', 0.011128133803258422],\n",
       " ['GGCGTGTTTAACGATGT', 0.0014409279556352526],\n",
       " ['TTGCTAGTTTTGTGTGA', 0.012998513004257207],\n",
       " ['TAGTAGCTTATTTTGGG', 2.1058950234500372e-09],\n",
       " ['AAGGTGTCGCTGGTGCG', 8.823590488526362e-07],\n",
       " ['GGAGTATAATTCGGTGG', 0.00037045816828085127],\n",
       " ['TGTGGGTATTGTTGTGG', 4.267561355752424e-10],\n",
       " ['GGTACAGGTGTTGTAGA', 7.231364697723701e-05],\n",
       " ['AAAGTGGGGAATTGGCT', 0.00012283369913942377],\n",
       " ['TACGGTGGGTTTAAGGA', 2.431874378611569e-11],\n",
       " ['GGAGTGGCATAGTTTGA', 3.987477222206445e-06],\n",
       " ['GTCGGTGTTAATGATTA', 2.2809409317475608e-06],\n",
       " ['GGTGGTCTTACCATGAA', 9.299031798567996e-13],\n",
       " ['CTGTGCATATGGGGTTG', 0.0008458498955199746],\n",
       " ['GGAAAGGGTAGTAGTGT', 1.569875746540149e-05],\n",
       " ['TGTTGATGGGGTTAAAT', 1.9311699962392763e-10],\n",
       " ['GATAATAGTCTTCGCGG', 0.0001539412079737015],\n",
       " ['ACGATGTTTAGTAAAGC', 3.210244345468699e-10],\n",
       " ['TTTGAGGGTTTTTGGGT', 1.5031387713278634e-06],\n",
       " ['TGGTGGTGGTACGCGAA', 1.873601617524511e-07],\n",
       " ['TGGGAGGGTGTGCGTTT', 0.014937629123041135],\n",
       " ['TGTTTGTTCCAAAGCAA', 3.1272412952012215e-08],\n",
       " ['ATGGTTTGCGTGGGCTT', 0.010706871217409897],\n",
       " ['TTGGTGCATGGAGATTA', 2.789865379148259e-12],\n",
       " ['AGCAATATTGGCGTGTG', 2.659296738567262e-11],\n",
       " ['TTGTTAGTTTGGGTCAG', 1.2407878669299323e-07],\n",
       " ['ATGTGGTAGTGGGATTA', 3.819455391119569e-08],\n",
       " ['TTGTGGGTGGATTTTGG', 1.6802176096987212e-07]]"
      ]
     },
     "execution_count": 7,
     "metadata": {},
     "output_type": "execute_result"
    }
   ],
   "source": [
    "neg_output"
   ]
  },
  {
   "cell_type": "code",
   "execution_count": 9,
   "metadata": {},
   "outputs": [
    {
     "ename": "TypeError",
     "evalue": "ufunc 'add' did not contain a loop with signature matching types dtype('<U32') dtype('<U32') dtype('<U32')",
     "output_type": "error",
     "traceback": [
      "\u001b[0;31m---------------------------------------------------------------------------\u001b[0m",
      "\u001b[0;31mTypeError\u001b[0m                                 Traceback (most recent call last)",
      "\u001b[0;32m<ipython-input-9-729533754d7b>\u001b[0m in \u001b[0;36m<module>\u001b[0;34m()\u001b[0m\n\u001b[1;32m      5\u001b[0m     \u001b[0;32mfor\u001b[0m \u001b[0melement\u001b[0m \u001b[0;32min\u001b[0m \u001b[0mtest_output\u001b[0m\u001b[0;34m:\u001b[0m\u001b[0;34m\u001b[0m\u001b[0m\n\u001b[1;32m      6\u001b[0m         \u001b[0;32mfor\u001b[0m \u001b[0mword\u001b[0m \u001b[0;32min\u001b[0m \u001b[0melement\u001b[0m\u001b[0;34m:\u001b[0m\u001b[0;34m\u001b[0m\u001b[0m\n\u001b[0;32m----> 7\u001b[0;31m              \u001b[0mfile\u001b[0m\u001b[0;34m.\u001b[0m\u001b[0mwrite\u001b[0m\u001b[0;34m(\u001b[0m\u001b[0mword\u001b[0m \u001b[0;34m+\u001b[0m \u001b[0;34m'\\t'\u001b[0m\u001b[0;34m)\u001b[0m\u001b[0;34m\u001b[0m\u001b[0m\n\u001b[0m\u001b[1;32m      8\u001b[0m         \u001b[0mfile\u001b[0m\u001b[0;34m.\u001b[0m\u001b[0mwrite\u001b[0m\u001b[0;34m(\u001b[0m\u001b[0;34m'\\n'\u001b[0m\u001b[0;34m)\u001b[0m\u001b[0;34m\u001b[0m\u001b[0m\n",
      "\u001b[0;31mTypeError\u001b[0m: ufunc 'add' did not contain a loop with signature matching types dtype('<U32') dtype('<U32') dtype('<U32')"
     ]
    }
   ],
   "source": [
    "test_sequences = io.read_sequences('/Users/elizabeth/Desktop/BMI203_final_project/data/rap1-lieb-test.txt')\n",
    "test_input = io.convert_to_numeric(test_sequences)\n",
    "test_output = net.output(test_input)\n",
    "with open('predictions.txt', 'w') as file:\n",
    "    for element in test_output:\n",
    "        for word in element:\n",
    "            file.write(word + '\\t')\n",
    "        file.write('\\n')"
   ]
  },
  {
   "cell_type": "code",
   "execution_count": 15,
   "metadata": {},
   "outputs": [],
   "source": [
    "with open('predictions.txt', 'w') as file:\n",
    "    for element in test_output:\n",
    "        file.write(element[0] + '\\t')\n",
    "        file.write(str(element[1]))\n",
    "        file.write('\\n')"
   ]
  },
  {
   "cell_type": "code",
   "execution_count": 2,
   "metadata": {},
   "outputs": [
    {
     "name": "stdout",
     "output_type": "stream",
     "text": [
      "Epochs complete in: 0.05202185312906901  min\n",
      "Epochs complete in: 0.05605506499608358  min\n",
      "Epochs complete in: 0.035814352830251056  min\n",
      "Epochs complete in: 0.04802159468332926  min\n",
      "Epochs complete in: 0.04897368351618449  min\n",
      "Epochs complete in: 0.05223016341527303  min\n",
      "Epochs complete in: 0.021243731180826824  min\n",
      "Epochs complete in: 0.038855330149332686  min\n",
      "Epochs complete in: 0.05601066748301188  min\n",
      "Epochs complete in: 0.05304853518803914  min\n"
     ]
    }
   ],
   "source": [
    "net.cross_val(pos_input, neg_input, 100, 10, 1, 10)"
   ]
  },
  {
   "cell_type": "code",
   "execution_count": 3,
   "metadata": {},
   "outputs": [
    {
     "data": {
      "text/plain": [
       "[0.9814814814814815, 1.0, 1.0, 1.0, 1.0, 1.0, 1.0, 1.0, 1.0, 1.0]"
      ]
     },
     "execution_count": 3,
     "metadata": {},
     "output_type": "execute_result"
    }
   ],
   "source": [
    "net.accuracy"
   ]
  },
  {
   "cell_type": "code",
   "execution_count": 4,
   "metadata": {},
   "outputs": [
    {
     "name": "stdout",
     "output_type": "stream",
     "text": [
      "Epochs complete in: 0.09682765404383341  min\n",
      "Epochs complete in: 0.09057878653208415  min\n",
      "Epochs complete in: 0.09044563372929891  min\n",
      "Epochs complete in: 0.10301063458124797  min\n",
      "Epochs complete in: 0.08271129926045735  min\n",
      "Epochs complete in: 0.09340863227844239  min\n",
      "Epochs complete in: 0.09984970092773438  min\n",
      "Epochs complete in: 0.09361091852188111  min\n",
      "Epochs complete in: 0.09178671836853028  min\n",
      "Epochs complete in: 0.10117174784342448  min\n"
     ]
    },
    {
     "data": {
      "text/plain": [
       "[0.9444444444444444,\n",
       " 1.0,\n",
       " 1.0,\n",
       " 0.9814814814814815,\n",
       " 0.9814814814814815,\n",
       " 1.0,\n",
       " 1.0,\n",
       " 1.0,\n",
       " 1.0,\n",
       " 0.9444444444444444]"
      ]
     },
     "execution_count": 4,
     "metadata": {},
     "output_type": "execute_result"
    }
   ],
   "source": [
    "#cross_val(pos_data, neg_data, epochs, mini_batch_size, eta, k)\n",
    "net.cross_val(pos_input, neg_input, 100, 10, 0.1, 10)\n",
    "net.accuracy"
   ]
  },
  {
   "cell_type": "code",
   "execution_count": 11,
   "metadata": {},
   "outputs": [
    {
     "name": "stdout",
     "output_type": "stream",
     "text": [
      "Epochs complete in: 0.05523218313852946  min\n",
      "Epochs complete in: 0.05639344851175944  min\n",
      "Epochs complete in: 0.05988285144170125  min\n",
      "Epochs complete in: 0.062310036023457846  min\n",
      "Epochs complete in: 0.06031671365102132  min\n",
      "Epochs complete in: 0.05707311232884725  min\n",
      "Epochs complete in: 0.06071861584981283  min\n",
      "Epochs complete in: 0.05308801333109538  min\n",
      "Epochs complete in: 0.060480217138926186  min\n",
      "Epochs complete in: 0.06059046983718872  min\n"
     ]
    },
    {
     "data": {
      "text/plain": [
       "[0.9814814814814815, 1.0, 1.0, 1.0, 1.0, 1.0, 1.0, 1.0, 1.0, 1.0]"
      ]
     },
     "execution_count": 11,
     "metadata": {},
     "output_type": "execute_result"
    }
   ],
   "source": [
    "net = neuralnet.Network([68,10,1])\n",
    "net.cross_val(pos_input, neg_input, 100, 10, 1, 10)\n",
    "net.accuracy"
   ]
  },
  {
   "cell_type": "code",
   "execution_count": 3,
   "metadata": {},
   "outputs": [
    {
     "name": "stdout",
     "output_type": "stream",
     "text": [
      "Epochs complete in: 0.05830237070719401  min\n",
      "Epochs complete in: 0.06852320035298666  min\n",
      "Epochs complete in: 0.03132534821828206  min\n",
      "Epochs complete in: 0.06863660017649333  min\n",
      "Epochs complete in: 0.06506690184275309  min\n",
      "Epochs complete in: 0.0597046176592509  min\n",
      "Epochs complete in: 0.058657900492350264  min\n",
      "Epochs complete in: 0.011621681849161784  min\n",
      "Epochs complete in: 0.060509649912516277  min\n",
      "Epochs complete in: 0.03602474927902222  min\n"
     ]
    },
    {
     "data": {
      "text/plain": [
       "[0.9629629629629629,\n",
       " 1.0,\n",
       " 1.0,\n",
       " 1.0,\n",
       " 1.0,\n",
       " 1.0,\n",
       " 1.0,\n",
       " 1.0,\n",
       " 1.0,\n",
       " 0.9629629629629629]"
      ]
     },
     "execution_count": 3,
     "metadata": {},
     "output_type": "execute_result"
    }
   ],
   "source": [
    "net = neuralnet.Network([68,55,1])\n",
    "net.cross_val(pos_input, neg_input, 100, 10, 1, 10)\n",
    "net.accuracy"
   ]
  },
  {
   "cell_type": "markdown",
   "metadata": {},
   "source": [
    "8x3x8 encoder"
   ]
  },
  {
   "cell_type": "code",
   "execution_count": 4,
   "metadata": {},
   "outputs": [],
   "source": [
    "test_data = [[np.array([[1,0,0,0,0,0,0,0]]).T,np.array([[1,0,0,0,0,0,0,0]]).T],\n",
    "                 [np.array([[0,1,0,0,0,0,0,0]]).T,np.array([[0,1,0,0,0,0,0,0]]).T],\n",
    "                [np.array([[0,0,1,0,0,0,0,0]]).T,np.array([[0,0,1,0,0,0,0,0]]).T],\n",
    "                [np.array([[0,0,0,1,0,0,0,0]]).T,np.array([[0,0,0,1,0,0,0,0]]).T],\n",
    "                [np.array([[0,0,0,0,1,0,0,0]]).T,np.array([[0,0,0,0,1,0,0,0]]).T],\n",
    "                [np.array([[0,0,0,0,0,1,0,0]]).T,np.array([[0,0,0,0,0,1,0,0]]).T],\n",
    "                [np.array([[0,0,0,0,0,0,1,0]]).T,np.array([[0,0,0,0,0,0,1,0]]).T],\n",
    "                [np.array([[0,0,0,0,0,0,0,1]]).T,np.array([[0,0,0,0,0,0,0,1]]).T]]"
   ]
  },
  {
   "cell_type": "code",
   "execution_count": 1,
   "metadata": {},
   "outputs": [],
   "source": [
    "from BMI203_final_project import neuralnet\n",
    "from BMI203_final_project import io\n",
    "import numpy as np\n",
    "import random\n",
    "from scipy.interpolate import make_interp_spline, BSpline\n",
    "import matplotlib.pyplot as plt\n",
    "import time\n",
    "net_test = neuralnet.Network([8,3,8])"
   ]
  },
  {
   "cell_type": "code",
   "execution_count": 5,
   "metadata": {},
   "outputs": [
    {
     "name": "stdout",
     "output_type": "stream",
     "text": [
      "Epochs complete in: 0.005112163225809733  min\n"
     ]
    }
   ],
   "source": [
    "\"\"\"\n",
    "epochs = 300\n",
    "mini_batch_size = 1\n",
    "eta = 0.1\n",
    "reg = 1\n",
    "\n",
    "\"\"\"\n",
    "eta = 1\n",
    "iterations = 300\n",
    "net_test.SGD(test_data,iterations,1,eta)"
   ]
  },
  {
   "cell_type": "code",
   "execution_count": 8,
   "metadata": {},
   "outputs": [
    {
     "data": {
      "text/plain": [
       "[1.0, 0.0, 0.0, 0.0, 0.0, 0.0, 0.0, 0.0]"
      ]
     },
     "execution_count": 8,
     "metadata": {},
     "output_type": "execute_result"
    }
   ],
   "source": [
    "net_test.evaluate_8_3_8(test_data)[0][0]"
   ]
  },
  {
   "cell_type": "code",
   "execution_count": 15,
   "metadata": {},
   "outputs": [
    {
     "data": {
      "image/png": "[encoded data removed]",
      "text/plain": [
       "<Figure size 432x288 with 1 Axes>"
      ]
     },
     "metadata": {
      "needs_background": "light"
     },
     "output_type": "display_data"
    }
   ],
   "source": [
    "#Plot raw data\n",
    "x_points = np.array(list(range(len(net_test.cost_overall))))\n",
    "y_points = np.array(net_test.cost_overall)\n",
    "plt.plot(x_points,y_points)\n",
    "plt.xlabel(\"Iterations\")\n",
    "plt.ylabel(\"Cost\")\n",
    "plt.title(\"Eta = 0.1, Mini_batch = 1\")\n",
    "plt.show()"
   ]
  },
  {
   "cell_type": "code",
   "execution_count": 7,
   "metadata": {},
   "outputs": [
    {
     "data": {
      "image/png": "[encoded data removed]",
      "text/plain": [
       "<Figure size 432x288 with 1 Axes>"
      ]
     },
     "metadata": {
      "needs_background": "light"
     },
     "output_type": "display_data"
    }
   ],
   "source": [
    "\n",
    "#Plot raw data\n",
    "x_points = np.array(list(range(len(net.cost_overall))))\n",
    "y_points = np.array(net.cost_overall)\n",
    "plt.plot(x_points,y_points)\n",
    "plt.show()"
   ]
  }
 ],
 "metadata": {
  "kernelspec": {
   "display_name": "final",
   "language": "python",
   "name": "final"
  },
  "language_info": {
   "codemirror_mode": {
    "name": "ipython",
    "version": 3
   },
   "file_extension": ".py",
   "mimetype": "text/x-python",
   "name": "python",
   "nbconvert_exporter": "python",
   "pygments_lexer": "ipython3",
   "version": "3.7.0"
  }
 },
 "nbformat": 4,
 "nbformat_minor": 2
}
